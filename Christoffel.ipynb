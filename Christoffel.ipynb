{
 "cells": [
  {
   "cell_type": "code",
   "execution_count": 62,
   "metadata": {},
   "outputs": [],
   "source": [
    "%matplotlib inline\n",
    "\n",
    "import matplotlib\n",
    "import numpy as np\n",
    "import matplotlib.pyplot as plt\n",
    "from IPython.display import display, Math"
   ]
  },
  {
   "cell_type": "code",
   "execution_count": 63,
   "metadata": {},
   "outputs": [],
   "source": [
    "from sympy import *\n",
    "# from sympy import Symbol\n",
    "# from sympy import latex, symbols, sin, cos, pi, simplify, diff\n",
    "from sympy.physics.mechanics import *\n",
    "from scipy.integrate import solve_ivp"
   ]
  },
  {
   "cell_type": "code",
   "execution_count": 210,
   "metadata": {},
   "outputs": [],
   "source": [
    "from sympy.diffgeom import (\n",
    "Manifold, \n",
    "Patch, \n",
    "BaseScalarField,\n",
    "    CoordSystem,\n",
    "    metric_to_Christoffel_2nd,\n",
    "    metric_to_Christoffel_1st,\n",
    "    TensorProduct as TP,\n",
    "    twoform_to_matrix\n",
    ")\n",
    "\n",
    "import sympy.diffgeom\n",
    "def lprint(v):\n",
    "    display(Math(latex(v)))"
   ]
  },
  {
   "cell_type": "code",
   "execution_count": 65,
   "metadata": {},
   "outputs": [],
   "source": [
    "A = symbols('A', real = True)\n",
    "B = symbols('B', real = True)    #------> моменты инерции \n",
    "C = symbols('C', real = True)"
   ]
  },
  {
   "cell_type": "code",
   "execution_count": 284,
   "metadata": {},
   "outputs": [],
   "source": [
    "psi = dynamicsymbols(u'psi')     #угол прецессии\n",
    "phi = dynamicsymbols(u'phi')     #угол вращения     ------> обобщенные координаты\n",
    "theta = dynamicsymbols(u'theta') #угол нутации"
   ]
  },
  {
   "cell_type": "code",
   "execution_count": 67,
   "metadata": {},
   "outputs": [
    {
     "data": {
      "text/latex": [
       "$\\displaystyle A \\left(\\sin{\\left(\\phi{\\left(t \\right)} \\right)} \\sin{\\left(\\theta{\\left(t \\right)} \\right)} \\frac{d}{d t} \\psi{\\left(t \\right)} + \\cos{\\left(\\phi{\\left(t \\right)} \\right)} \\frac{d}{d t} \\theta{\\left(t \\right)}\\right)$"
      ],
      "text/plain": [
       "A*(sin(phi(t))*sin(theta(t))*Derivative(psi(t), t) + cos(phi(t))*Derivative(theta(t), t))"
      ]
     },
     "execution_count": 67,
     "metadata": {},
     "output_type": "execute_result"
    }
   ],
   "source": [
    "p_func*A"
   ]
  },
  {
   "cell_type": "code",
   "execution_count": 68,
   "metadata": {},
   "outputs": [],
   "source": [
    "p  = dynamicsymbols('p', 0)\n",
    "q  = dynamicsymbols('q', 0)\n",
    "r  = dynamicsymbols('r', 0)"
   ]
  },
  {
   "cell_type": "code",
   "execution_count": 287,
   "metadata": {},
   "outputs": [
    {
     "data": {
      "text/latex": [
       "$\\displaystyle \\sin{\\left(\\psi{\\left(t \\right)} \\right)}$"
      ],
      "text/plain": [
       "sin(psi(t))"
      ]
     },
     "execution_count": 287,
     "metadata": {},
     "output_type": "execute_result"
    }
   ],
   "source": [
    "sin(psi)"
   ]
  },
  {
   "cell_type": "code",
   "execution_count": 27,
   "metadata": {},
   "outputs": [],
   "source": [
    "p_func = diff(psi, 't')*sin(theta)*sin(phi)+diff(theta, 't')*cos(phi)\n",
    "q_func = diff(psi, 't')*sin(theta)*cos(phi)-diff(theta, 't')*sin(phi)    #---> кинематические уравнения Эйлера\n",
    "r_func = diff(phi, 't')+diff(psi, 't')*cos(theta)"
   ]
  },
  {
   "cell_type": "code",
   "execution_count": 282,
   "metadata": {},
   "outputs": [
    {
     "data": {
      "text/latex": [
       "$\\displaystyle \\sin{\\left(\\phi{\\left(t \\right)} \\right)} \\sin{\\left(\\theta{\\left(t \\right)} \\right)} \\frac{d}{d t} \\psi{\\left(t \\right)} + \\cos{\\left(\\phi{\\left(t \\right)} \\right)} \\frac{d}{d t} \\theta{\\left(t \\right)}$"
      ],
      "text/plain": [
       "<IPython.core.display.Math object>"
      ]
     },
     "metadata": {},
     "output_type": "display_data"
    }
   ],
   "source": [
    "lprint(p_func)"
   ]
  },
  {
   "cell_type": "code",
   "execution_count": 33,
   "metadata": {},
   "outputs": [
    {
     "data": {
      "text/latex": [
       "$\\displaystyle - \\sin{\\left(\\phi{\\left(t \\right)} \\right)} \\frac{d}{d t} \\theta{\\left(t \\right)} + \\sin{\\left(\\theta{\\left(t \\right)} \\right)} \\cos{\\left(\\phi{\\left(t \\right)} \\right)} \\frac{d}{d t} \\psi{\\left(t \\right)}$"
      ],
      "text/plain": [
       "<IPython.core.display.Math object>"
      ]
     },
     "metadata": {},
     "output_type": "display_data"
    }
   ],
   "source": [
    "lprint(q_func)"
   ]
  },
  {
   "cell_type": "code",
   "execution_count": 38,
   "metadata": {},
   "outputs": [
    {
     "data": {
      "text/latex": [
       "$\\displaystyle \\cos{\\left(\\theta{\\left(t \\right)} \\right)} \\frac{d}{d t} \\psi{\\left(t \\right)} + \\frac{d}{d t} \\phi{\\left(t \\right)}$"
      ],
      "text/plain": [
       "<IPython.core.display.Math object>"
      ]
     },
     "metadata": {},
     "output_type": "display_data"
    }
   ],
   "source": [
    "lprint(r_func)"
   ]
  },
  {
   "cell_type": "code",
   "execution_count": 71,
   "metadata": {},
   "outputs": [],
   "source": [
    "T = 0.5*(A*p*p+B*q*q+C*r*r) #--------> кинетическая энергия "
   ]
  },
  {
   "cell_type": "code",
   "execution_count": 74,
   "metadata": {},
   "outputs": [],
   "source": [
    "T2 = (0.5*(A*p_func*p_func+B*q_func*q_func+C*r_func*r_func))"
   ]
  },
  {
   "cell_type": "code",
   "execution_count": 77,
   "metadata": {},
   "outputs": [
    {
     "data": {
      "text/latex": [
       "$\\displaystyle 0.5 A \\sin^{2}{\\left(\\phi{\\left(t \\right)} \\right)} \\sin^{2}{\\left(\\theta{\\left(t \\right)} \\right)} \\left(\\frac{d}{d t} \\psi{\\left(t \\right)}\\right)^{2} + 1.0 A \\sin{\\left(\\phi{\\left(t \\right)} \\right)} \\sin{\\left(\\theta{\\left(t \\right)} \\right)} \\cos{\\left(\\phi{\\left(t \\right)} \\right)} \\frac{d}{d t} \\psi{\\left(t \\right)} \\frac{d}{d t} \\theta{\\left(t \\right)} + 0.5 A \\cos^{2}{\\left(\\phi{\\left(t \\right)} \\right)} \\left(\\frac{d}{d t} \\theta{\\left(t \\right)}\\right)^{2} + 0.5 B \\sin^{2}{\\left(\\phi{\\left(t \\right)} \\right)} \\left(\\frac{d}{d t} \\theta{\\left(t \\right)}\\right)^{2} - 1.0 B \\sin{\\left(\\phi{\\left(t \\right)} \\right)} \\sin{\\left(\\theta{\\left(t \\right)} \\right)} \\cos{\\left(\\phi{\\left(t \\right)} \\right)} \\frac{d}{d t} \\psi{\\left(t \\right)} \\frac{d}{d t} \\theta{\\left(t \\right)} + 0.5 B \\sin^{2}{\\left(\\theta{\\left(t \\right)} \\right)} \\cos^{2}{\\left(\\phi{\\left(t \\right)} \\right)} \\left(\\frac{d}{d t} \\psi{\\left(t \\right)}\\right)^{2} + 0.5 C \\cos^{2}{\\left(\\theta{\\left(t \\right)} \\right)} \\left(\\frac{d}{d t} \\psi{\\left(t \\right)}\\right)^{2} + 1.0 C \\cos{\\left(\\theta{\\left(t \\right)} \\right)} \\frac{d}{d t} \\phi{\\left(t \\right)} \\frac{d}{d t} \\psi{\\left(t \\right)} + 0.5 C \\left(\\frac{d}{d t} \\phi{\\left(t \\right)}\\right)^{2}$"
      ],
      "text/plain": [
       "0.5*A*sin(phi(t))**2*sin(theta(t))**2*Derivative(psi(t), t)**2 + 1.0*A*sin(phi(t))*sin(theta(t))*cos(phi(t))*Derivative(psi(t), t)*Derivative(theta(t), t) + 0.5*A*cos(phi(t))**2*Derivative(theta(t), t)**2 + 0.5*B*sin(phi(t))**2*Derivative(theta(t), t)**2 - 1.0*B*sin(phi(t))*sin(theta(t))*cos(phi(t))*Derivative(psi(t), t)*Derivative(theta(t), t) + 0.5*B*sin(theta(t))**2*cos(phi(t))**2*Derivative(psi(t), t)**2 + 0.5*C*cos(theta(t))**2*Derivative(psi(t), t)**2 + 1.0*C*cos(theta(t))*Derivative(phi(t), t)*Derivative(psi(t), t) + 0.5*C*Derivative(phi(t), t)**2"
      ]
     },
     "execution_count": 77,
     "metadata": {},
     "output_type": "execute_result"
    }
   ],
   "source": [
    "T2 = expand(T2)\n",
    "T2"
   ]
  },
  {
   "cell_type": "markdown",
   "metadata": {},
   "source": [
    "Запишем динамические уравнения Эйлера"
   ]
  },
  {
   "cell_type": "code",
   "execution_count": 260,
   "metadata": {},
   "outputs": [],
   "source": [
    "EL1 = expand(A*diff(p_func)+(C-B)*r_func*q_func)"
   ]
  },
  {
   "cell_type": "code",
   "execution_count": 261,
   "metadata": {},
   "outputs": [
    {
     "data": {
      "text/latex": [
       "$\\displaystyle A \\sin{\\left(\\phi{\\left(t \\right)} \\right)} \\sin{\\left(\\theta{\\left(t \\right)} \\right)} \\frac{d^{2}}{d t^{2}} \\psi{\\left(t \\right)} + A \\sin{\\left(\\phi{\\left(t \\right)} \\right)} \\cos{\\left(\\theta{\\left(t \\right)} \\right)} \\frac{d}{d t} \\psi{\\left(t \\right)} \\frac{d}{d t} \\theta{\\left(t \\right)} - A \\sin{\\left(\\phi{\\left(t \\right)} \\right)} \\frac{d}{d t} \\phi{\\left(t \\right)} \\frac{d}{d t} \\theta{\\left(t \\right)} + A \\sin{\\left(\\theta{\\left(t \\right)} \\right)} \\cos{\\left(\\phi{\\left(t \\right)} \\right)} \\frac{d}{d t} \\phi{\\left(t \\right)} \\frac{d}{d t} \\psi{\\left(t \\right)} + A \\cos{\\left(\\phi{\\left(t \\right)} \\right)} \\frac{d^{2}}{d t^{2}} \\theta{\\left(t \\right)} + B \\sin{\\left(\\phi{\\left(t \\right)} \\right)} \\cos{\\left(\\theta{\\left(t \\right)} \\right)} \\frac{d}{d t} \\psi{\\left(t \\right)} \\frac{d}{d t} \\theta{\\left(t \\right)} + B \\sin{\\left(\\phi{\\left(t \\right)} \\right)} \\frac{d}{d t} \\phi{\\left(t \\right)} \\frac{d}{d t} \\theta{\\left(t \\right)} - B \\sin{\\left(\\theta{\\left(t \\right)} \\right)} \\cos{\\left(\\phi{\\left(t \\right)} \\right)} \\cos{\\left(\\theta{\\left(t \\right)} \\right)} \\left(\\frac{d}{d t} \\psi{\\left(t \\right)}\\right)^{2} - B \\sin{\\left(\\theta{\\left(t \\right)} \\right)} \\cos{\\left(\\phi{\\left(t \\right)} \\right)} \\frac{d}{d t} \\phi{\\left(t \\right)} \\frac{d}{d t} \\psi{\\left(t \\right)} - C \\sin{\\left(\\phi{\\left(t \\right)} \\right)} \\cos{\\left(\\theta{\\left(t \\right)} \\right)} \\frac{d}{d t} \\psi{\\left(t \\right)} \\frac{d}{d t} \\theta{\\left(t \\right)} - C \\sin{\\left(\\phi{\\left(t \\right)} \\right)} \\frac{d}{d t} \\phi{\\left(t \\right)} \\frac{d}{d t} \\theta{\\left(t \\right)} + C \\sin{\\left(\\theta{\\left(t \\right)} \\right)} \\cos{\\left(\\phi{\\left(t \\right)} \\right)} \\cos{\\left(\\theta{\\left(t \\right)} \\right)} \\left(\\frac{d}{d t} \\psi{\\left(t \\right)}\\right)^{2} + C \\sin{\\left(\\theta{\\left(t \\right)} \\right)} \\cos{\\left(\\phi{\\left(t \\right)} \\right)} \\frac{d}{d t} \\phi{\\left(t \\right)} \\frac{d}{d t} \\psi{\\left(t \\right)}$"
      ],
      "text/plain": [
       "<IPython.core.display.Math object>"
      ]
     },
     "metadata": {},
     "output_type": "display_data"
    }
   ],
   "source": [
    "lprint(EL1)"
   ]
  },
  {
   "cell_type": "code",
   "execution_count": 258,
   "metadata": {},
   "outputs": [],
   "source": [
    "EL2 = expand(B*diff(q_func)+(A-C)*p_func*r_func)"
   ]
  },
  {
   "cell_type": "code",
   "execution_count": 259,
   "metadata": {},
   "outputs": [
    {
     "data": {
      "text/latex": [
       "$\\displaystyle A \\sin{\\left(\\phi{\\left(t \\right)} \\right)} \\sin{\\left(\\theta{\\left(t \\right)} \\right)} \\cos{\\left(\\theta{\\left(t \\right)} \\right)} \\left(\\frac{d}{d t} \\psi{\\left(t \\right)}\\right)^{2} + A \\sin{\\left(\\phi{\\left(t \\right)} \\right)} \\sin{\\left(\\theta{\\left(t \\right)} \\right)} \\frac{d}{d t} \\phi{\\left(t \\right)} \\frac{d}{d t} \\psi{\\left(t \\right)} + A \\cos{\\left(\\phi{\\left(t \\right)} \\right)} \\cos{\\left(\\theta{\\left(t \\right)} \\right)} \\frac{d}{d t} \\psi{\\left(t \\right)} \\frac{d}{d t} \\theta{\\left(t \\right)} + A \\cos{\\left(\\phi{\\left(t \\right)} \\right)} \\frac{d}{d t} \\phi{\\left(t \\right)} \\frac{d}{d t} \\theta{\\left(t \\right)} - B \\sin{\\left(\\phi{\\left(t \\right)} \\right)} \\sin{\\left(\\theta{\\left(t \\right)} \\right)} \\frac{d}{d t} \\phi{\\left(t \\right)} \\frac{d}{d t} \\psi{\\left(t \\right)} - B \\sin{\\left(\\phi{\\left(t \\right)} \\right)} \\frac{d^{2}}{d t^{2}} \\theta{\\left(t \\right)} + B \\sin{\\left(\\theta{\\left(t \\right)} \\right)} \\cos{\\left(\\phi{\\left(t \\right)} \\right)} \\frac{d^{2}}{d t^{2}} \\psi{\\left(t \\right)} + B \\cos{\\left(\\phi{\\left(t \\right)} \\right)} \\cos{\\left(\\theta{\\left(t \\right)} \\right)} \\frac{d}{d t} \\psi{\\left(t \\right)} \\frac{d}{d t} \\theta{\\left(t \\right)} - B \\cos{\\left(\\phi{\\left(t \\right)} \\right)} \\frac{d}{d t} \\phi{\\left(t \\right)} \\frac{d}{d t} \\theta{\\left(t \\right)} - C \\sin{\\left(\\phi{\\left(t \\right)} \\right)} \\sin{\\left(\\theta{\\left(t \\right)} \\right)} \\cos{\\left(\\theta{\\left(t \\right)} \\right)} \\left(\\frac{d}{d t} \\psi{\\left(t \\right)}\\right)^{2} - C \\sin{\\left(\\phi{\\left(t \\right)} \\right)} \\sin{\\left(\\theta{\\left(t \\right)} \\right)} \\frac{d}{d t} \\phi{\\left(t \\right)} \\frac{d}{d t} \\psi{\\left(t \\right)} - C \\cos{\\left(\\phi{\\left(t \\right)} \\right)} \\cos{\\left(\\theta{\\left(t \\right)} \\right)} \\frac{d}{d t} \\psi{\\left(t \\right)} \\frac{d}{d t} \\theta{\\left(t \\right)} - C \\cos{\\left(\\phi{\\left(t \\right)} \\right)} \\frac{d}{d t} \\phi{\\left(t \\right)} \\frac{d}{d t} \\theta{\\left(t \\right)}$"
      ],
      "text/plain": [
       "<IPython.core.display.Math object>"
      ]
     },
     "metadata": {},
     "output_type": "display_data"
    }
   ],
   "source": [
    "lprint(EL2)"
   ]
  },
  {
   "cell_type": "code",
   "execution_count": 262,
   "metadata": {},
   "outputs": [],
   "source": [
    "EL3 = expand(C*diff(r_func) +(B-A)*p_func*q_func)"
   ]
  },
  {
   "cell_type": "code",
   "execution_count": 263,
   "metadata": {},
   "outputs": [
    {
     "data": {
      "text/latex": [
       "$\\displaystyle 2 A \\sin^{2}{\\left(\\phi{\\left(t \\right)} \\right)} \\sin{\\left(\\theta{\\left(t \\right)} \\right)} \\frac{d}{d t} \\psi{\\left(t \\right)} \\frac{d}{d t} \\theta{\\left(t \\right)} - A \\sin{\\left(\\phi{\\left(t \\right)} \\right)} \\sin^{2}{\\left(\\theta{\\left(t \\right)} \\right)} \\cos{\\left(\\phi{\\left(t \\right)} \\right)} \\left(\\frac{d}{d t} \\psi{\\left(t \\right)}\\right)^{2} + A \\sin{\\left(\\phi{\\left(t \\right)} \\right)} \\cos{\\left(\\phi{\\left(t \\right)} \\right)} \\left(\\frac{d}{d t} \\theta{\\left(t \\right)}\\right)^{2} - A \\sin{\\left(\\theta{\\left(t \\right)} \\right)} \\frac{d}{d t} \\psi{\\left(t \\right)} \\frac{d}{d t} \\theta{\\left(t \\right)} - 2 B \\sin^{2}{\\left(\\phi{\\left(t \\right)} \\right)} \\sin{\\left(\\theta{\\left(t \\right)} \\right)} \\frac{d}{d t} \\psi{\\left(t \\right)} \\frac{d}{d t} \\theta{\\left(t \\right)} + B \\sin{\\left(\\phi{\\left(t \\right)} \\right)} \\sin^{2}{\\left(\\theta{\\left(t \\right)} \\right)} \\cos{\\left(\\phi{\\left(t \\right)} \\right)} \\left(\\frac{d}{d t} \\psi{\\left(t \\right)}\\right)^{2} - B \\sin{\\left(\\phi{\\left(t \\right)} \\right)} \\cos{\\left(\\phi{\\left(t \\right)} \\right)} \\left(\\frac{d}{d t} \\theta{\\left(t \\right)}\\right)^{2} + B \\sin{\\left(\\theta{\\left(t \\right)} \\right)} \\frac{d}{d t} \\psi{\\left(t \\right)} \\frac{d}{d t} \\theta{\\left(t \\right)} - C \\sin{\\left(\\theta{\\left(t \\right)} \\right)} \\frac{d}{d t} \\psi{\\left(t \\right)} \\frac{d}{d t} \\theta{\\left(t \\right)} + C \\cos{\\left(\\theta{\\left(t \\right)} \\right)} \\frac{d^{2}}{d t^{2}} \\psi{\\left(t \\right)} + C \\frac{d^{2}}{d t^{2}} \\phi{\\left(t \\right)}$"
      ],
      "text/plain": [
       "<IPython.core.display.Math object>"
      ]
     },
     "metadata": {},
     "output_type": "display_data"
    }
   ],
   "source": [
    "lprint(simplify((EL3)))"
   ]
  },
  {
   "cell_type": "code",
   "execution_count": 293,
   "metadata": {},
   "outputs": [
    {
     "data": {
      "text/latex": [
       "$\\displaystyle A \\sin{\\left(\\phi{\\left(t \\right)} \\right)} \\sin{\\left(\\theta{\\left(t \\right)} \\right)} \\frac{d^{2}}{d t^{2}} \\psi{\\left(t \\right)} + A \\sin{\\left(\\phi{\\left(t \\right)} \\right)} \\cos{\\left(\\theta{\\left(t \\right)} \\right)} \\frac{d}{d t} \\psi{\\left(t \\right)} \\frac{d}{d t} \\theta{\\left(t \\right)} - A \\sin{\\left(\\phi{\\left(t \\right)} \\right)} \\frac{d}{d t} \\phi{\\left(t \\right)} \\frac{d}{d t} \\theta{\\left(t \\right)} + A \\sin{\\left(\\theta{\\left(t \\right)} \\right)} \\cos{\\left(\\phi{\\left(t \\right)} \\right)} \\frac{d}{d t} \\phi{\\left(t \\right)} \\frac{d}{d t} \\psi{\\left(t \\right)} + A \\cos{\\left(\\phi{\\left(t \\right)} \\right)} \\frac{d^{2}}{d t^{2}} \\theta{\\left(t \\right)} + B \\sin{\\left(\\phi{\\left(t \\right)} \\right)} \\cos{\\left(\\theta{\\left(t \\right)} \\right)} \\frac{d}{d t} \\psi{\\left(t \\right)} \\frac{d}{d t} \\theta{\\left(t \\right)} + B \\sin{\\left(\\phi{\\left(t \\right)} \\right)} \\frac{d}{d t} \\phi{\\left(t \\right)} \\frac{d}{d t} \\theta{\\left(t \\right)} - B \\sin{\\left(\\theta{\\left(t \\right)} \\right)} \\cos{\\left(\\phi{\\left(t \\right)} \\right)} \\cos{\\left(\\theta{\\left(t \\right)} \\right)} \\left(\\frac{d}{d t} \\psi{\\left(t \\right)}\\right)^{2} - B \\sin{\\left(\\theta{\\left(t \\right)} \\right)} \\cos{\\left(\\phi{\\left(t \\right)} \\right)} \\frac{d}{d t} \\phi{\\left(t \\right)} \\frac{d}{d t} \\psi{\\left(t \\right)} - C \\sin{\\left(\\phi{\\left(t \\right)} \\right)} \\cos{\\left(\\theta{\\left(t \\right)} \\right)} \\frac{d}{d t} \\psi{\\left(t \\right)} \\frac{d}{d t} \\theta{\\left(t \\right)} - C \\sin{\\left(\\phi{\\left(t \\right)} \\right)} \\frac{d}{d t} \\phi{\\left(t \\right)} \\frac{d}{d t} \\theta{\\left(t \\right)} + C \\sin{\\left(\\theta{\\left(t \\right)} \\right)} \\cos{\\left(\\phi{\\left(t \\right)} \\right)} \\cos{\\left(\\theta{\\left(t \\right)} \\right)} \\left(\\frac{d}{d t} \\psi{\\left(t \\right)}\\right)^{2} + C \\sin{\\left(\\theta{\\left(t \\right)} \\right)} \\cos{\\left(\\phi{\\left(t \\right)} \\right)} \\frac{d}{d t} \\phi{\\left(t \\right)} \\frac{d}{d t} \\psi{\\left(t \\right)} - \\frac{\\sin{\\left(\\theta{\\left(t \\right)} \\right)} \\cos{\\left(\\theta{\\left(t \\right)} \\right)} \\left(\\frac{d}{d t} \\psi{\\left(t \\right)}\\right)^{2}}{B \\cos{\\left(\\phi{\\left(t \\right)} \\right)}} - \\frac{\\sin{\\left(\\theta{\\left(t \\right)} \\right)} \\frac{d}{d t} \\phi{\\left(t \\right)} \\frac{d}{d t} \\psi{\\left(t \\right)}}{B \\cos{\\left(\\phi{\\left(t \\right)} \\right)}} - \\frac{\\cos{\\left(\\theta{\\left(t \\right)} \\right)} \\frac{d}{d t} \\psi{\\left(t \\right)} \\frac{d}{d t} \\theta{\\left(t \\right)}}{B \\sin{\\left(\\phi{\\left(t \\right)} \\right)}} - \\frac{\\frac{d}{d t} \\phi{\\left(t \\right)} \\frac{d}{d t} \\theta{\\left(t \\right)}}{B \\sin{\\left(\\phi{\\left(t \\right)} \\right)}} + \\frac{\\sin{\\left(\\theta{\\left(t \\right)} \\right)} \\frac{d}{d t} \\phi{\\left(t \\right)} \\frac{d}{d t} \\psi{\\left(t \\right)}}{A \\cos{\\left(\\phi{\\left(t \\right)} \\right)}} + \\frac{\\frac{d^{2}}{d t^{2}} \\theta{\\left(t \\right)}}{A \\cos{\\left(\\phi{\\left(t \\right)} \\right)}} - \\frac{\\sin{\\left(\\theta{\\left(t \\right)} \\right)} \\frac{d^{2}}{d t^{2}} \\psi{\\left(t \\right)}}{A \\sin{\\left(\\phi{\\left(t \\right)} \\right)}} - \\frac{\\cos{\\left(\\theta{\\left(t \\right)} \\right)} \\frac{d}{d t} \\psi{\\left(t \\right)} \\frac{d}{d t} \\theta{\\left(t \\right)}}{A \\sin{\\left(\\phi{\\left(t \\right)} \\right)}} + \\frac{\\frac{d}{d t} \\phi{\\left(t \\right)} \\frac{d}{d t} \\theta{\\left(t \\right)}}{A \\sin{\\left(\\phi{\\left(t \\right)} \\right)}} + \\frac{C \\sin{\\left(\\theta{\\left(t \\right)} \\right)} \\cos{\\left(\\theta{\\left(t \\right)} \\right)} \\left(\\frac{d}{d t} \\psi{\\left(t \\right)}\\right)^{2}}{A B \\cos{\\left(\\phi{\\left(t \\right)} \\right)}} + \\frac{C \\sin{\\left(\\theta{\\left(t \\right)} \\right)} \\frac{d}{d t} \\phi{\\left(t \\right)} \\frac{d}{d t} \\psi{\\left(t \\right)}}{A B \\cos{\\left(\\phi{\\left(t \\right)} \\right)}} + \\frac{C \\cos{\\left(\\theta{\\left(t \\right)} \\right)} \\frac{d}{d t} \\psi{\\left(t \\right)} \\frac{d}{d t} \\theta{\\left(t \\right)}}{A B \\sin{\\left(\\phi{\\left(t \\right)} \\right)}} + \\frac{C \\frac{d}{d t} \\phi{\\left(t \\right)} \\frac{d}{d t} \\theta{\\left(t \\right)}}{A B \\sin{\\left(\\phi{\\left(t \\right)} \\right)}}$"
      ],
      "text/plain": [
       "A*sin(phi(t))*sin(theta(t))*Derivative(psi(t), (t, 2)) + A*sin(phi(t))*cos(theta(t))*Derivative(psi(t), t)*Derivative(theta(t), t) - A*sin(phi(t))*Derivative(phi(t), t)*Derivative(theta(t), t) + A*sin(theta(t))*cos(phi(t))*Derivative(phi(t), t)*Derivative(psi(t), t) + A*cos(phi(t))*Derivative(theta(t), (t, 2)) + B*sin(phi(t))*cos(theta(t))*Derivative(psi(t), t)*Derivative(theta(t), t) + B*sin(phi(t))*Derivative(phi(t), t)*Derivative(theta(t), t) - B*sin(theta(t))*cos(phi(t))*cos(theta(t))*Derivative(psi(t), t)**2 - B*sin(theta(t))*cos(phi(t))*Derivative(phi(t), t)*Derivative(psi(t), t) - C*sin(phi(t))*cos(theta(t))*Derivative(psi(t), t)*Derivative(theta(t), t) - C*sin(phi(t))*Derivative(phi(t), t)*Derivative(theta(t), t) + C*sin(theta(t))*cos(phi(t))*cos(theta(t))*Derivative(psi(t), t)**2 + C*sin(theta(t))*cos(phi(t))*Derivative(phi(t), t)*Derivative(psi(t), t) - sin(theta(t))*cos(theta(t))*Derivative(psi(t), t)**2/(B*cos(phi(t))) - sin(theta(t))*Derivative(phi(t), t)*Derivative(psi(t), t)/(B*cos(phi(t))) - cos(theta(t))*Derivative(psi(t), t)*Derivative(theta(t), t)/(B*sin(phi(t))) - Derivative(phi(t), t)*Derivative(theta(t), t)/(B*sin(phi(t))) + sin(theta(t))*Derivative(phi(t), t)*Derivative(psi(t), t)/(A*cos(phi(t))) + Derivative(theta(t), (t, 2))/(A*cos(phi(t))) - sin(theta(t))*Derivative(psi(t), (t, 2))/(A*sin(phi(t))) - cos(theta(t))*Derivative(psi(t), t)*Derivative(theta(t), t)/(A*sin(phi(t))) + Derivative(phi(t), t)*Derivative(theta(t), t)/(A*sin(phi(t))) + C*sin(theta(t))*cos(theta(t))*Derivative(psi(t), t)**2/(A*B*cos(phi(t))) + C*sin(theta(t))*Derivative(phi(t), t)*Derivative(psi(t), t)/(A*B*cos(phi(t))) + C*cos(theta(t))*Derivative(psi(t), t)*Derivative(theta(t), t)/(A*B*sin(phi(t))) + C*Derivative(phi(t), t)*Derivative(theta(t), t)/(A*B*sin(phi(t)))"
      ]
     },
     "execution_count": 293,
     "metadata": {},
     "output_type": "execute_result"
    }
   ],
   "source": [
    "(expand(EL1-EL2/(B*sin(phi)*A*cos(phi))))"
   ]
  },
  {
   "cell_type": "code",
   "execution_count": 275,
   "metadata": {},
   "outputs": [
    {
     "data": {
      "text/latex": [
       "$\\displaystyle \\mathbf{\\phi}$"
      ],
      "text/plain": [
       "phi"
      ]
     },
     "execution_count": 275,
     "metadata": {},
     "output_type": "execute_result"
    }
   ],
   "source": [
    "phi('t')"
   ]
  },
  {
   "cell_type": "code",
   "execution_count": null,
   "metadata": {},
   "outputs": [],
   "source": []
  },
  {
   "cell_type": "code",
   "execution_count": null,
   "metadata": {},
   "outputs": [],
   "source": []
  },
  {
   "cell_type": "code",
   "execution_count": 264,
   "metadata": {},
   "outputs": [
    {
     "data": {
      "text/latex": [
       "$\\displaystyle A \\sin^{2}{\\left(\\phi{\\left(t \\right)} \\right)} \\sin{\\left(\\theta{\\left(t \\right)} \\right)} \\frac{d}{d t} \\psi{\\left(t \\right)} \\frac{d}{d t} \\theta{\\left(t \\right)} - A \\sin{\\left(\\phi{\\left(t \\right)} \\right)} \\sin^{2}{\\left(\\theta{\\left(t \\right)} \\right)} \\cos{\\left(\\phi{\\left(t \\right)} \\right)} \\left(\\frac{d}{d t} \\psi{\\left(t \\right)}\\right)^{2} + A \\sin{\\left(\\phi{\\left(t \\right)} \\right)} \\sin{\\left(\\theta{\\left(t \\right)} \\right)} \\cos{\\left(\\theta{\\left(t \\right)} \\right)} \\left(\\frac{d}{d t} \\psi{\\left(t \\right)}\\right)^{2} + A \\sin{\\left(\\phi{\\left(t \\right)} \\right)} \\sin{\\left(\\theta{\\left(t \\right)} \\right)} \\frac{d}{d t} \\phi{\\left(t \\right)} \\frac{d}{d t} \\psi{\\left(t \\right)} + A \\sin{\\left(\\phi{\\left(t \\right)} \\right)} \\sin{\\left(\\theta{\\left(t \\right)} \\right)} \\frac{d^{2}}{d t^{2}} \\psi{\\left(t \\right)} + A \\sin{\\left(\\phi{\\left(t \\right)} \\right)} \\cos{\\left(\\phi{\\left(t \\right)} \\right)} \\left(\\frac{d}{d t} \\theta{\\left(t \\right)}\\right)^{2} + A \\sin{\\left(\\phi{\\left(t \\right)} \\right)} \\cos{\\left(\\theta{\\left(t \\right)} \\right)} \\frac{d}{d t} \\psi{\\left(t \\right)} \\frac{d}{d t} \\theta{\\left(t \\right)} - A \\sin{\\left(\\phi{\\left(t \\right)} \\right)} \\frac{d}{d t} \\phi{\\left(t \\right)} \\frac{d}{d t} \\theta{\\left(t \\right)} - A \\sin{\\left(\\theta{\\left(t \\right)} \\right)} \\cos^{2}{\\left(\\phi{\\left(t \\right)} \\right)} \\frac{d}{d t} \\psi{\\left(t \\right)} \\frac{d}{d t} \\theta{\\left(t \\right)} + A \\sin{\\left(\\theta{\\left(t \\right)} \\right)} \\cos{\\left(\\phi{\\left(t \\right)} \\right)} \\frac{d}{d t} \\phi{\\left(t \\right)} \\frac{d}{d t} \\psi{\\left(t \\right)} + A \\cos{\\left(\\phi{\\left(t \\right)} \\right)} \\cos{\\left(\\theta{\\left(t \\right)} \\right)} \\frac{d}{d t} \\psi{\\left(t \\right)} \\frac{d}{d t} \\theta{\\left(t \\right)} + A \\cos{\\left(\\phi{\\left(t \\right)} \\right)} \\frac{d}{d t} \\phi{\\left(t \\right)} \\frac{d}{d t} \\theta{\\left(t \\right)} + A \\cos{\\left(\\phi{\\left(t \\right)} \\right)} \\frac{d^{2}}{d t^{2}} \\theta{\\left(t \\right)} - B \\sin^{2}{\\left(\\phi{\\left(t \\right)} \\right)} \\sin{\\left(\\theta{\\left(t \\right)} \\right)} \\frac{d}{d t} \\psi{\\left(t \\right)} \\frac{d}{d t} \\theta{\\left(t \\right)} + B \\sin{\\left(\\phi{\\left(t \\right)} \\right)} \\sin^{2}{\\left(\\theta{\\left(t \\right)} \\right)} \\cos{\\left(\\phi{\\left(t \\right)} \\right)} \\left(\\frac{d}{d t} \\psi{\\left(t \\right)}\\right)^{2} - B \\sin{\\left(\\phi{\\left(t \\right)} \\right)} \\sin{\\left(\\theta{\\left(t \\right)} \\right)} \\frac{d}{d t} \\phi{\\left(t \\right)} \\frac{d}{d t} \\psi{\\left(t \\right)} - B \\sin{\\left(\\phi{\\left(t \\right)} \\right)} \\cos{\\left(\\phi{\\left(t \\right)} \\right)} \\left(\\frac{d}{d t} \\theta{\\left(t \\right)}\\right)^{2} + B \\sin{\\left(\\phi{\\left(t \\right)} \\right)} \\cos{\\left(\\theta{\\left(t \\right)} \\right)} \\frac{d}{d t} \\psi{\\left(t \\right)} \\frac{d}{d t} \\theta{\\left(t \\right)} + B \\sin{\\left(\\phi{\\left(t \\right)} \\right)} \\frac{d}{d t} \\phi{\\left(t \\right)} \\frac{d}{d t} \\theta{\\left(t \\right)} - B \\sin{\\left(\\phi{\\left(t \\right)} \\right)} \\frac{d^{2}}{d t^{2}} \\theta{\\left(t \\right)} + B \\sin{\\left(\\theta{\\left(t \\right)} \\right)} \\cos^{2}{\\left(\\phi{\\left(t \\right)} \\right)} \\frac{d}{d t} \\psi{\\left(t \\right)} \\frac{d}{d t} \\theta{\\left(t \\right)} - B \\sin{\\left(\\theta{\\left(t \\right)} \\right)} \\cos{\\left(\\phi{\\left(t \\right)} \\right)} \\cos{\\left(\\theta{\\left(t \\right)} \\right)} \\left(\\frac{d}{d t} \\psi{\\left(t \\right)}\\right)^{2} - B \\sin{\\left(\\theta{\\left(t \\right)} \\right)} \\cos{\\left(\\phi{\\left(t \\right)} \\right)} \\frac{d}{d t} \\phi{\\left(t \\right)} \\frac{d}{d t} \\psi{\\left(t \\right)} + B \\sin{\\left(\\theta{\\left(t \\right)} \\right)} \\cos{\\left(\\phi{\\left(t \\right)} \\right)} \\frac{d^{2}}{d t^{2}} \\psi{\\left(t \\right)} + B \\cos{\\left(\\phi{\\left(t \\right)} \\right)} \\cos{\\left(\\theta{\\left(t \\right)} \\right)} \\frac{d}{d t} \\psi{\\left(t \\right)} \\frac{d}{d t} \\theta{\\left(t \\right)} - B \\cos{\\left(\\phi{\\left(t \\right)} \\right)} \\frac{d}{d t} \\phi{\\left(t \\right)} \\frac{d}{d t} \\theta{\\left(t \\right)} - C \\sin{\\left(\\phi{\\left(t \\right)} \\right)} \\sin{\\left(\\theta{\\left(t \\right)} \\right)} \\cos{\\left(\\theta{\\left(t \\right)} \\right)} \\left(\\frac{d}{d t} \\psi{\\left(t \\right)}\\right)^{2} - C \\sin{\\left(\\phi{\\left(t \\right)} \\right)} \\sin{\\left(\\theta{\\left(t \\right)} \\right)} \\frac{d}{d t} \\phi{\\left(t \\right)} \\frac{d}{d t} \\psi{\\left(t \\right)} - C \\sin{\\left(\\phi{\\left(t \\right)} \\right)} \\cos{\\left(\\theta{\\left(t \\right)} \\right)} \\frac{d}{d t} \\psi{\\left(t \\right)} \\frac{d}{d t} \\theta{\\left(t \\right)} - C \\sin{\\left(\\phi{\\left(t \\right)} \\right)} \\frac{d}{d t} \\phi{\\left(t \\right)} \\frac{d}{d t} \\theta{\\left(t \\right)} + C \\sin{\\left(\\theta{\\left(t \\right)} \\right)} \\cos{\\left(\\phi{\\left(t \\right)} \\right)} \\cos{\\left(\\theta{\\left(t \\right)} \\right)} \\left(\\frac{d}{d t} \\psi{\\left(t \\right)}\\right)^{2} + C \\sin{\\left(\\theta{\\left(t \\right)} \\right)} \\cos{\\left(\\phi{\\left(t \\right)} \\right)} \\frac{d}{d t} \\phi{\\left(t \\right)} \\frac{d}{d t} \\psi{\\left(t \\right)} - C \\sin{\\left(\\theta{\\left(t \\right)} \\right)} \\frac{d}{d t} \\psi{\\left(t \\right)} \\frac{d}{d t} \\theta{\\left(t \\right)} - C \\cos{\\left(\\phi{\\left(t \\right)} \\right)} \\cos{\\left(\\theta{\\left(t \\right)} \\right)} \\frac{d}{d t} \\psi{\\left(t \\right)} \\frac{d}{d t} \\theta{\\left(t \\right)} - C \\cos{\\left(\\phi{\\left(t \\right)} \\right)} \\frac{d}{d t} \\phi{\\left(t \\right)} \\frac{d}{d t} \\theta{\\left(t \\right)} + C \\cos{\\left(\\theta{\\left(t \\right)} \\right)} \\frac{d^{2}}{d t^{2}} \\psi{\\left(t \\right)} + C \\frac{d^{2}}{d t^{2}} \\phi{\\left(t \\right)}$"
      ],
      "text/plain": [
       "A*sin(phi(t))**2*sin(theta(t))*Derivative(psi(t), t)*Derivative(theta(t), t) - A*sin(phi(t))*sin(theta(t))**2*cos(phi(t))*Derivative(psi(t), t)**2 + A*sin(phi(t))*sin(theta(t))*cos(theta(t))*Derivative(psi(t), t)**2 + A*sin(phi(t))*sin(theta(t))*Derivative(phi(t), t)*Derivative(psi(t), t) + A*sin(phi(t))*sin(theta(t))*Derivative(psi(t), (t, 2)) + A*sin(phi(t))*cos(phi(t))*Derivative(theta(t), t)**2 + A*sin(phi(t))*cos(theta(t))*Derivative(psi(t), t)*Derivative(theta(t), t) - A*sin(phi(t))*Derivative(phi(t), t)*Derivative(theta(t), t) - A*sin(theta(t))*cos(phi(t))**2*Derivative(psi(t), t)*Derivative(theta(t), t) + A*sin(theta(t))*cos(phi(t))*Derivative(phi(t), t)*Derivative(psi(t), t) + A*cos(phi(t))*cos(theta(t))*Derivative(psi(t), t)*Derivative(theta(t), t) + A*cos(phi(t))*Derivative(phi(t), t)*Derivative(theta(t), t) + A*cos(phi(t))*Derivative(theta(t), (t, 2)) - B*sin(phi(t))**2*sin(theta(t))*Derivative(psi(t), t)*Derivative(theta(t), t) + B*sin(phi(t))*sin(theta(t))**2*cos(phi(t))*Derivative(psi(t), t)**2 - B*sin(phi(t))*sin(theta(t))*Derivative(phi(t), t)*Derivative(psi(t), t) - B*sin(phi(t))*cos(phi(t))*Derivative(theta(t), t)**2 + B*sin(phi(t))*cos(theta(t))*Derivative(psi(t), t)*Derivative(theta(t), t) + B*sin(phi(t))*Derivative(phi(t), t)*Derivative(theta(t), t) - B*sin(phi(t))*Derivative(theta(t), (t, 2)) + B*sin(theta(t))*cos(phi(t))**2*Derivative(psi(t), t)*Derivative(theta(t), t) - B*sin(theta(t))*cos(phi(t))*cos(theta(t))*Derivative(psi(t), t)**2 - B*sin(theta(t))*cos(phi(t))*Derivative(phi(t), t)*Derivative(psi(t), t) + B*sin(theta(t))*cos(phi(t))*Derivative(psi(t), (t, 2)) + B*cos(phi(t))*cos(theta(t))*Derivative(psi(t), t)*Derivative(theta(t), t) - B*cos(phi(t))*Derivative(phi(t), t)*Derivative(theta(t), t) - C*sin(phi(t))*sin(theta(t))*cos(theta(t))*Derivative(psi(t), t)**2 - C*sin(phi(t))*sin(theta(t))*Derivative(phi(t), t)*Derivative(psi(t), t) - C*sin(phi(t))*cos(theta(t))*Derivative(psi(t), t)*Derivative(theta(t), t) - C*sin(phi(t))*Derivative(phi(t), t)*Derivative(theta(t), t) + C*sin(theta(t))*cos(phi(t))*cos(theta(t))*Derivative(psi(t), t)**2 + C*sin(theta(t))*cos(phi(t))*Derivative(phi(t), t)*Derivative(psi(t), t) - C*sin(theta(t))*Derivative(psi(t), t)*Derivative(theta(t), t) - C*cos(phi(t))*cos(theta(t))*Derivative(psi(t), t)*Derivative(theta(t), t) - C*cos(phi(t))*Derivative(phi(t), t)*Derivative(theta(t), t) + C*cos(theta(t))*Derivative(psi(t), (t, 2)) + C*Derivative(phi(t), (t, 2))"
      ]
     },
     "execution_count": 264,
     "metadata": {},
     "output_type": "execute_result"
    }
   ],
   "source": [
    "EL = (EL1+EL2+EL3)\n",
    "EL"
   ]
  },
  {
   "cell_type": "markdown",
   "metadata": {},
   "source": [
    "Получаем наше финальное уравнение"
   ]
  },
  {
   "cell_type": "code",
   "execution_count": 25,
   "metadata": {},
   "outputs": [],
   "source": [
    "EL = expand(EL1+EL2+EL3)"
   ]
  },
  {
   "cell_type": "code",
   "execution_count": 88,
   "metadata": {},
   "outputs": [
    {
     "data": {
      "text/latex": [
       "$\\displaystyle A \\left(\\sin{\\left(\\phi{\\left(t \\right)} \\right)} \\sin{\\left(\\theta{\\left(t \\right)} \\right)} \\frac{d^{2}}{d t^{2}} \\psi{\\left(t \\right)} + \\sin{\\left(\\phi{\\left(t \\right)} \\right)} \\cos{\\left(\\theta{\\left(t \\right)} \\right)} \\frac{d}{d t} \\psi{\\left(t \\right)} \\frac{d}{d t} \\theta{\\left(t \\right)} - \\sin{\\left(\\phi{\\left(t \\right)} \\right)} \\frac{d}{d t} \\phi{\\left(t \\right)} \\frac{d}{d t} \\theta{\\left(t \\right)} + \\sin{\\left(\\theta{\\left(t \\right)} \\right)} \\cos{\\left(\\phi{\\left(t \\right)} \\right)} \\frac{d}{d t} \\phi{\\left(t \\right)} \\frac{d}{d t} \\psi{\\left(t \\right)} + \\cos{\\left(\\phi{\\left(t \\right)} \\right)} \\frac{d^{2}}{d t^{2}} \\theta{\\left(t \\right)}\\right) - B \\left(\\sin{\\left(\\phi{\\left(t \\right)} \\right)} \\sin{\\left(\\theta{\\left(t \\right)} \\right)} \\frac{d}{d t} \\phi{\\left(t \\right)} \\frac{d}{d t} \\psi{\\left(t \\right)} + \\sin{\\left(\\phi{\\left(t \\right)} \\right)} \\frac{d^{2}}{d t^{2}} \\theta{\\left(t \\right)} - \\sin{\\left(\\theta{\\left(t \\right)} \\right)} \\cos{\\left(\\phi{\\left(t \\right)} \\right)} \\frac{d^{2}}{d t^{2}} \\psi{\\left(t \\right)} - \\cos{\\left(\\phi{\\left(t \\right)} \\right)} \\cos{\\left(\\theta{\\left(t \\right)} \\right)} \\frac{d}{d t} \\psi{\\left(t \\right)} \\frac{d}{d t} \\theta{\\left(t \\right)} + \\cos{\\left(\\phi{\\left(t \\right)} \\right)} \\frac{d}{d t} \\phi{\\left(t \\right)} \\frac{d}{d t} \\theta{\\left(t \\right)}\\right) + C \\left(- \\sin{\\left(\\theta{\\left(t \\right)} \\right)} \\frac{d}{d t} \\psi{\\left(t \\right)} \\frac{d}{d t} \\theta{\\left(t \\right)} + \\cos{\\left(\\theta{\\left(t \\right)} \\right)} \\frac{d^{2}}{d t^{2}} \\psi{\\left(t \\right)} + \\frac{d^{2}}{d t^{2}} \\phi{\\left(t \\right)}\\right) + \\left(A - B\\right) \\left(\\sin{\\left(\\phi{\\left(t \\right)} \\right)} \\frac{d}{d t} \\theta{\\left(t \\right)} - \\sin{\\left(\\theta{\\left(t \\right)} \\right)} \\cos{\\left(\\phi{\\left(t \\right)} \\right)} \\frac{d}{d t} \\psi{\\left(t \\right)}\\right) \\left(\\sin{\\left(\\phi{\\left(t \\right)} \\right)} \\sin{\\left(\\theta{\\left(t \\right)} \\right)} \\frac{d}{d t} \\psi{\\left(t \\right)} + \\cos{\\left(\\phi{\\left(t \\right)} \\right)} \\frac{d}{d t} \\theta{\\left(t \\right)}\\right) + \\left(A - C\\right) \\left(\\cos{\\left(\\theta{\\left(t \\right)} \\right)} \\frac{d}{d t} \\psi{\\left(t \\right)} + \\frac{d}{d t} \\phi{\\left(t \\right)}\\right) \\left(\\sin{\\left(\\phi{\\left(t \\right)} \\right)} \\sin{\\left(\\theta{\\left(t \\right)} \\right)} \\frac{d}{d t} \\psi{\\left(t \\right)} + \\cos{\\left(\\phi{\\left(t \\right)} \\right)} \\frac{d}{d t} \\theta{\\left(t \\right)}\\right) + \\left(B - C\\right) \\left(\\sin{\\left(\\phi{\\left(t \\right)} \\right)} \\frac{d}{d t} \\theta{\\left(t \\right)} - \\sin{\\left(\\theta{\\left(t \\right)} \\right)} \\cos{\\left(\\phi{\\left(t \\right)} \\right)} \\frac{d}{d t} \\psi{\\left(t \\right)}\\right) \\left(\\cos{\\left(\\theta{\\left(t \\right)} \\right)} \\frac{d}{d t} \\psi{\\left(t \\right)} + \\frac{d}{d t} \\phi{\\left(t \\right)}\\right)$"
      ],
      "text/plain": [
       "A*(sin(phi(t))*sin(theta(t))*Derivative(psi(t), (t, 2)) + sin(phi(t))*cos(theta(t))*Derivative(psi(t), t)*Derivative(theta(t), t) - sin(phi(t))*Derivative(phi(t), t)*Derivative(theta(t), t) + sin(theta(t))*cos(phi(t))*Derivative(phi(t), t)*Derivative(psi(t), t) + cos(phi(t))*Derivative(theta(t), (t, 2))) - B*(sin(phi(t))*sin(theta(t))*Derivative(phi(t), t)*Derivative(psi(t), t) + sin(phi(t))*Derivative(theta(t), (t, 2)) - sin(theta(t))*cos(phi(t))*Derivative(psi(t), (t, 2)) - cos(phi(t))*cos(theta(t))*Derivative(psi(t), t)*Derivative(theta(t), t) + cos(phi(t))*Derivative(phi(t), t)*Derivative(theta(t), t)) + C*(-sin(theta(t))*Derivative(psi(t), t)*Derivative(theta(t), t) + cos(theta(t))*Derivative(psi(t), (t, 2)) + Derivative(phi(t), (t, 2))) + (A - B)*(sin(phi(t))*Derivative(theta(t), t) - sin(theta(t))*cos(phi(t))*Derivative(psi(t), t))*(sin(phi(t))*sin(theta(t))*Derivative(psi(t), t) + cos(phi(t))*Derivative(theta(t), t)) + (A - C)*(cos(theta(t))*Derivative(psi(t), t) + Derivative(phi(t), t))*(sin(phi(t))*sin(theta(t))*Derivative(psi(t), t) + cos(phi(t))*Derivative(theta(t), t)) + (B - C)*(sin(phi(t))*Derivative(theta(t), t) - sin(theta(t))*cos(phi(t))*Derivative(psi(t), t))*(cos(theta(t))*Derivative(psi(t), t) + Derivative(phi(t), t))"
      ]
     },
     "execution_count": 88,
     "metadata": {},
     "output_type": "execute_result"
    }
   ],
   "source": [
    "simplify(simplify(EL))"
   ]
  },
  {
   "cell_type": "markdown",
   "metadata": {},
   "source": [
    "Отсюда мы должны вычленить символы Кристоффеля"
   ]
  },
  {
   "cell_type": "code",
   "execution_count": 126,
   "metadata": {},
   "outputs": [],
   "source": [
    "# Create a manifold.\n",
    "M = Manifold('M', 3)\n",
    "\n",
    "# Create a patch.\n",
    "patch = Patch('P', M)\n",
    "\n",
    "# Basic symbols\n",
    "A, B,C = symbols('A,B,C')\n",
    "\n",
    "# Coordinate system\n",
    "euler_coord = CoordSystem('angles', patch, [u'psi', u'phi',u'theta'])\n",
    "\n",
    "# Get the coordinate functions\n",
    "psi,phi,theta = euler_coord.coord_functions()\n",
    "\n",
    "# Get the base one forms.\n",
    "dpsi, dphi, dtheta = euler_coord.base_oneforms()\n",
    "\n",
    "# Auxiliar terms for the metric.\n",
    "dpsi_2 = TP(dpsi, dpsi)\n",
    "dphi_2 = TP(dphi, dphi)\n",
    "dpsi_dtheta = TP(dpsi,dtheta)\n",
    "dtheta_dpsi = TP(dtheta,dpsi)\n",
    "dpsi_dphi = TP(dpsi,dphi)\n",
    "dphi_dpsi = TP(dphi,dpsi)\n",
    "dtheta_2 = TP(dtheta, dtheta)\n"
   ]
  },
  {
   "cell_type": "code",
   "execution_count": 102,
   "metadata": {},
   "outputs": [],
   "source": [
    "T3 = 2*(0.5*A*sin(phi)**2*sin(theta)**2*dpsi_2+0.5*A*sin(phi)*sin(theta)*cos(phi)*dpsi_dtheta+0.5*A*cos(phi)**2*dtheta_2+0.5*B*sin(phi)**2*dtheta_2\\\n",
    "-0.5*B*sin(phi)*sin(theta)*cos(phi)*dpsi_dtheta+0.5*B*sin(theta)**2*cos(phi)**2*dpsi_2+0.5*C*cos(theta)**2*dpsi_2\\\n",
    "+0.5*C*cos(theta)*dpsi_dphi+0.5*C*cos(theta)*dphi_dpsi+0.5*C*dphi_2+0.5*A*sin(phi)*sin(theta)*cos(phi)*dtheta_dpsi-0.5*B*sin(phi)*sin(theta)*cos(phi)*dtheta_dpsi)\n"
   ]
  },
  {
   "cell_type": "code",
   "execution_count": 123,
   "metadata": {},
   "outputs": [
    {
     "data": {
      "text/latex": [
       "$\\displaystyle 2 \\left(0.5 A \\sin^{2}{\\left(\\mathbf{\\phi} \\right)} \\sin^{2}{\\left(\\mathbf{\\theta} \\right)} \\operatorname{d}\\psi \\otimes \\operatorname{d}\\psi + 0.5 A \\sin{\\left(\\mathbf{\\phi} \\right)} \\sin{\\left(\\mathbf{\\theta} \\right)} \\cos{\\left(\\mathbf{\\phi} \\right)} \\operatorname{d}\\psi \\otimes \\operatorname{d}\\theta + 0.5 A \\sin{\\left(\\mathbf{\\phi} \\right)} \\sin{\\left(\\mathbf{\\theta} \\right)} \\cos{\\left(\\mathbf{\\phi} \\right)} \\operatorname{d}\\theta \\otimes \\operatorname{d}\\psi + 0.5 A \\cos^{2}{\\left(\\mathbf{\\phi} \\right)} \\operatorname{d}\\theta \\otimes \\operatorname{d}\\theta + 0.5 B \\sin^{2}{\\left(\\mathbf{\\phi} \\right)} \\operatorname{d}\\theta \\otimes \\operatorname{d}\\theta - 0.5 B \\sin{\\left(\\mathbf{\\phi} \\right)} \\sin{\\left(\\mathbf{\\theta} \\right)} \\cos{\\left(\\mathbf{\\phi} \\right)} \\operatorname{d}\\psi \\otimes \\operatorname{d}\\theta - 0.5 B \\sin{\\left(\\mathbf{\\phi} \\right)} \\sin{\\left(\\mathbf{\\theta} \\right)} \\cos{\\left(\\mathbf{\\phi} \\right)} \\operatorname{d}\\theta \\otimes \\operatorname{d}\\psi + 0.5 B \\sin^{2}{\\left(\\mathbf{\\theta} \\right)} \\cos^{2}{\\left(\\mathbf{\\phi} \\right)} \\operatorname{d}\\psi \\otimes \\operatorname{d}\\psi + 0.5 C \\cos^{2}{\\left(\\mathbf{\\theta} \\right)} \\operatorname{d}\\psi \\otimes \\operatorname{d}\\psi + 0.5 C \\cos{\\left(\\mathbf{\\theta} \\right)} \\operatorname{d}\\phi \\otimes \\operatorname{d}\\psi + 0.5 C \\cos{\\left(\\mathbf{\\theta} \\right)} \\operatorname{d}\\psi \\otimes \\operatorname{d}\\phi + 0.5 C \\operatorname{d}\\phi \\otimes \\operatorname{d}\\phi\\right)$"
      ],
      "text/plain": [
       "2*(0.5*A*sin(phi)**2*sin(theta)**2*TensorProduct(dpsi, dpsi) + 0.5*A*sin(phi)*sin(theta)*cos(phi)*TensorProduct(dpsi, dtheta) + 0.5*A*sin(phi)*sin(theta)*cos(phi)*TensorProduct(dtheta, dpsi) + 0.5*A*cos(phi)**2*TensorProduct(dtheta, dtheta) + 0.5*B*sin(phi)**2*TensorProduct(dtheta, dtheta) - 0.5*B*sin(phi)*sin(theta)*cos(phi)*TensorProduct(dpsi, dtheta) - 0.5*B*sin(phi)*sin(theta)*cos(phi)*TensorProduct(dtheta, dpsi) + 0.5*B*sin(theta)**2*cos(phi)**2*TensorProduct(dpsi, dpsi) + 0.5*C*cos(theta)**2*TensorProduct(dpsi, dpsi) + 0.5*C*cos(theta)*TensorProduct(dphi, dpsi) + 0.5*C*cos(theta)*TensorProduct(dpsi, dphi) + 0.5*C*TensorProduct(dphi, dphi))"
      ]
     },
     "execution_count": 123,
     "metadata": {},
     "output_type": "execute_result"
    }
   ],
   "source": [
    "T3 #-> исходная метрика, полученная из кин. энергии"
   ]
  },
  {
   "cell_type": "code",
   "execution_count": 134,
   "metadata": {},
   "outputs": [
    {
     "data": {
      "text/latex": [
       "$\\displaystyle \\left[\\begin{matrix}1.0 A \\sin^{2}{\\left(\\mathbf{\\phi} \\right)} \\sin^{2}{\\left(\\mathbf{\\theta} \\right)} + 1.0 B \\sin^{2}{\\left(\\mathbf{\\theta} \\right)} \\cos^{2}{\\left(\\mathbf{\\phi} \\right)} + 1.0 C \\cos^{2}{\\left(\\mathbf{\\theta} \\right)} & 1.0 C \\cos{\\left(\\mathbf{\\theta} \\right)} & 1.0 A \\sin{\\left(\\mathbf{\\phi} \\right)} \\sin{\\left(\\mathbf{\\theta} \\right)} \\cos{\\left(\\mathbf{\\phi} \\right)} - 1.0 B \\sin{\\left(\\mathbf{\\phi} \\right)} \\sin{\\left(\\mathbf{\\theta} \\right)} \\cos{\\left(\\mathbf{\\phi} \\right)}\\\\1.0 C \\cos{\\left(\\mathbf{\\theta} \\right)} & 1.0 C & 0\\\\1.0 A \\sin{\\left(\\mathbf{\\phi} \\right)} \\sin{\\left(\\mathbf{\\theta} \\right)} \\cos{\\left(\\mathbf{\\phi} \\right)} - 1.0 B \\sin{\\left(\\mathbf{\\phi} \\right)} \\sin{\\left(\\mathbf{\\theta} \\right)} \\cos{\\left(\\mathbf{\\phi} \\right)} & 0 & 1.0 A \\cos^{2}{\\left(\\mathbf{\\phi} \\right)} + 1.0 B \\sin^{2}{\\left(\\mathbf{\\phi} \\right)}\\end{matrix}\\right]$"
      ],
      "text/plain": [
       "Matrix([\n",
       "[1.0*A*sin(phi)**2*sin(theta)**2 + 1.0*B*sin(theta)**2*cos(phi)**2 + 1.0*C*cos(theta)**2, 1.0*C*cos(theta), 1.0*A*sin(phi)*sin(theta)*cos(phi) - 1.0*B*sin(phi)*sin(theta)*cos(phi)],\n",
       "[                                                                       1.0*C*cos(theta),            1.0*C,                                                                       0],\n",
       "[                1.0*A*sin(phi)*sin(theta)*cos(phi) - 1.0*B*sin(phi)*sin(theta)*cos(phi),                0,                                   1.0*A*cos(phi)**2 + 1.0*B*sin(phi)**2]])"
      ]
     },
     "execution_count": 134,
     "metadata": {},
     "output_type": "execute_result"
    }
   ],
   "source": [
    "matrix = twoform_to_matrix(T3)\n",
    "matrix"
   ]
  },
  {
   "cell_type": "code",
   "execution_count": 131,
   "metadata": {},
   "outputs": [],
   "source": [
    "coord_sys = T3.atoms(CoordSystem).pop()"
   ]
  },
  {
   "cell_type": "code",
   "execution_count": 135,
   "metadata": {},
   "outputs": [],
   "source": [
    "deriv_matrices = [matrix.applyfunc(lambda a: d(a))     #-> матрица производных по базовым векторам\n",
    "                      for d in coord_sys.base_vectors()]"
   ]
  },
  {
   "cell_type": "code",
   "execution_count": 139,
   "metadata": {},
   "outputs": [
    {
     "data": {
      "text/plain": [
       "[e_psi, e_phi, e_theta]"
      ]
     },
     "execution_count": 139,
     "metadata": {},
     "output_type": "execute_result"
    }
   ],
   "source": [
    "coord_sys.base_vectors()"
   ]
  },
  {
   "cell_type": "code",
   "execution_count": 143,
   "metadata": {},
   "outputs": [
    {
     "data": {
      "text/plain": [
       "[0, 1, 2]"
      ]
     },
     "execution_count": 143,
     "metadata": {},
     "output_type": "execute_result"
    }
   ],
   "source": [
    "indices = list(range(coord_sys.dim)) # -> индексы"
   ]
  },
  {
   "cell_type": "code",
   "execution_count": 193,
   "metadata": {},
   "outputs": [],
   "source": [
    " christoffel_1 = [[[(deriv_matrices[k][i, j] + deriv_matrices[j][i, k] - deriv_matrices[i][j, k])/2 #----> символы первого рода\n",
    "                     for k in indices]\n",
    "                    for j in indices]\n",
    "                   for i in indices]\n",
    "christoffel_1 = ImmutableDenseNDimArray( christoffel_1)   "
   ]
  },
  {
   "cell_type": "code",
   "execution_count": 196,
   "metadata": {},
   "outputs": [
    {
     "data": {
      "text/latex": [
       "$\\displaystyle \\Gamma_0{0,0} = 0$"
      ],
      "text/plain": [
       "<IPython.core.display.Math object>"
      ]
     },
     "metadata": {},
     "output_type": "display_data"
    },
    {
     "data": {
      "text/latex": [
       "$\\displaystyle \\Gamma_0{0,1} = \\left(A - 1.0 B\\right) \\sin{\\left(\\mathbf{\\phi} \\right)} \\sin^{2}{\\left(\\mathbf{\\theta} \\right)} \\cos{\\left(\\mathbf{\\phi} \\right)}$"
      ],
      "text/plain": [
       "<IPython.core.display.Math object>"
      ]
     },
     "metadata": {},
     "output_type": "display_data"
    },
    {
     "data": {
      "text/latex": [
       "$\\displaystyle \\Gamma_0{0,2} = \\left(A \\sin^{2}{\\left(\\mathbf{\\phi} \\right)} + B \\cos^{2}{\\left(\\mathbf{\\phi} \\right)} - 1.0 C\\right) \\sin{\\left(\\mathbf{\\theta} \\right)} \\cos{\\left(\\mathbf{\\theta} \\right)}$"
      ],
      "text/plain": [
       "<IPython.core.display.Math object>"
      ]
     },
     "metadata": {},
     "output_type": "display_data"
    },
    {
     "data": {
      "text/latex": [
       "$\\displaystyle \\Gamma_0{1,0} = \\left(A - 1.0 B\\right) \\sin{\\left(\\mathbf{\\phi} \\right)} \\sin^{2}{\\left(\\mathbf{\\theta} \\right)} \\cos{\\left(\\mathbf{\\phi} \\right)}$"
      ],
      "text/plain": [
       "<IPython.core.display.Math object>"
      ]
     },
     "metadata": {},
     "output_type": "display_data"
    },
    {
     "data": {
      "text/latex": [
       "$\\displaystyle \\Gamma_0{1,1} = 0$"
      ],
      "text/plain": [
       "<IPython.core.display.Math object>"
      ]
     },
     "metadata": {},
     "output_type": "display_data"
    },
    {
     "data": {
      "text/latex": [
       "$\\displaystyle \\Gamma_0{1,2} = 0.5 \\left(- A \\sin^{2}{\\left(\\mathbf{\\phi} \\right)} + A \\cos^{2}{\\left(\\mathbf{\\phi} \\right)} + B \\sin^{2}{\\left(\\mathbf{\\phi} \\right)} - B \\cos^{2}{\\left(\\mathbf{\\phi} \\right)} - C\\right) \\sin{\\left(\\mathbf{\\theta} \\right)}$"
      ],
      "text/plain": [
       "<IPython.core.display.Math object>"
      ]
     },
     "metadata": {},
     "output_type": "display_data"
    },
    {
     "data": {
      "text/latex": [
       "$\\displaystyle \\Gamma_0{2,0} = \\left(A \\sin^{2}{\\left(\\mathbf{\\phi} \\right)} + B \\cos^{2}{\\left(\\mathbf{\\phi} \\right)} - 1.0 C\\right) \\sin{\\left(\\mathbf{\\theta} \\right)} \\cos{\\left(\\mathbf{\\theta} \\right)}$"
      ],
      "text/plain": [
       "<IPython.core.display.Math object>"
      ]
     },
     "metadata": {},
     "output_type": "display_data"
    },
    {
     "data": {
      "text/latex": [
       "$\\displaystyle \\Gamma_0{2,1} = 0.5 \\left(- A \\sin^{2}{\\left(\\mathbf{\\phi} \\right)} + A \\cos^{2}{\\left(\\mathbf{\\phi} \\right)} + B \\sin^{2}{\\left(\\mathbf{\\phi} \\right)} - B \\cos^{2}{\\left(\\mathbf{\\phi} \\right)} - C\\right) \\sin{\\left(\\mathbf{\\theta} \\right)}$"
      ],
      "text/plain": [
       "<IPython.core.display.Math object>"
      ]
     },
     "metadata": {},
     "output_type": "display_data"
    },
    {
     "data": {
      "text/latex": [
       "$\\displaystyle \\Gamma_0{2,2} = \\left(\\frac{A}{4} - 0.25 B\\right) \\left(\\sin{\\left(2 \\mathbf{\\phi} - \\mathbf{\\theta} \\right)} + \\sin{\\left(2 \\mathbf{\\phi} + \\mathbf{\\theta} \\right)}\\right)$"
      ],
      "text/plain": [
       "<IPython.core.display.Math object>"
      ]
     },
     "metadata": {},
     "output_type": "display_data"
    },
    {
     "data": {
      "text/latex": [
       "$\\displaystyle \\Gamma_1{0,0} = 1.0 \\left(- A + B\\right) \\sin{\\left(\\mathbf{\\phi} \\right)} \\sin^{2}{\\left(\\mathbf{\\theta} \\right)} \\cos{\\left(\\mathbf{\\phi} \\right)}$"
      ],
      "text/plain": [
       "<IPython.core.display.Math object>"
      ]
     },
     "metadata": {},
     "output_type": "display_data"
    },
    {
     "data": {
      "text/latex": [
       "$\\displaystyle \\Gamma_1{0,1} = 0$"
      ],
      "text/plain": [
       "<IPython.core.display.Math object>"
      ]
     },
     "metadata": {},
     "output_type": "display_data"
    },
    {
     "data": {
      "text/latex": [
       "$\\displaystyle \\Gamma_1{0,2} = 0.5 \\left(A \\sin^{2}{\\left(\\mathbf{\\phi} \\right)} - A \\cos^{2}{\\left(\\mathbf{\\phi} \\right)} - B \\sin^{2}{\\left(\\mathbf{\\phi} \\right)} + B \\cos^{2}{\\left(\\mathbf{\\phi} \\right)} - C\\right) \\sin{\\left(\\mathbf{\\theta} \\right)}$"
      ],
      "text/plain": [
       "<IPython.core.display.Math object>"
      ]
     },
     "metadata": {},
     "output_type": "display_data"
    },
    {
     "data": {
      "text/latex": [
       "$\\displaystyle \\Gamma_1{1,0} = 0$"
      ],
      "text/plain": [
       "<IPython.core.display.Math object>"
      ]
     },
     "metadata": {},
     "output_type": "display_data"
    },
    {
     "data": {
      "text/latex": [
       "$\\displaystyle \\Gamma_1{1,1} = 0$"
      ],
      "text/plain": [
       "<IPython.core.display.Math object>"
      ]
     },
     "metadata": {},
     "output_type": "display_data"
    },
    {
     "data": {
      "text/latex": [
       "$\\displaystyle \\Gamma_1{1,2} = 0$"
      ],
      "text/plain": [
       "<IPython.core.display.Math object>"
      ]
     },
     "metadata": {},
     "output_type": "display_data"
    },
    {
     "data": {
      "text/latex": [
       "$\\displaystyle \\Gamma_1{2,0} = 0.5 \\left(A \\sin^{2}{\\left(\\mathbf{\\phi} \\right)} - A \\cos^{2}{\\left(\\mathbf{\\phi} \\right)} - B \\sin^{2}{\\left(\\mathbf{\\phi} \\right)} + B \\cos^{2}{\\left(\\mathbf{\\phi} \\right)} - C\\right) \\sin{\\left(\\mathbf{\\theta} \\right)}$"
      ],
      "text/plain": [
       "<IPython.core.display.Math object>"
      ]
     },
     "metadata": {},
     "output_type": "display_data"
    },
    {
     "data": {
      "text/latex": [
       "$\\displaystyle \\Gamma_1{2,1} = 0$"
      ],
      "text/plain": [
       "<IPython.core.display.Math object>"
      ]
     },
     "metadata": {},
     "output_type": "display_data"
    },
    {
     "data": {
      "text/latex": [
       "$\\displaystyle \\Gamma_1{2,2} = 0.5 \\left(A - B\\right) \\sin{\\left(2 \\mathbf{\\phi} \\right)}$"
      ],
      "text/plain": [
       "<IPython.core.display.Math object>"
      ]
     },
     "metadata": {},
     "output_type": "display_data"
    },
    {
     "data": {
      "text/latex": [
       "$\\displaystyle \\Gamma_2{0,0} = 1.0 \\left(- A \\sin^{2}{\\left(\\mathbf{\\phi} \\right)} - B \\cos^{2}{\\left(\\mathbf{\\phi} \\right)} + C\\right) \\sin{\\left(\\mathbf{\\theta} \\right)} \\cos{\\left(\\mathbf{\\theta} \\right)}$"
      ],
      "text/plain": [
       "<IPython.core.display.Math object>"
      ]
     },
     "metadata": {},
     "output_type": "display_data"
    },
    {
     "data": {
      "text/latex": [
       "$\\displaystyle \\Gamma_2{0,1} = 0.5 \\left(- A \\sin^{2}{\\left(\\mathbf{\\phi} \\right)} + A \\cos^{2}{\\left(\\mathbf{\\phi} \\right)} + B \\sin^{2}{\\left(\\mathbf{\\phi} \\right)} - B \\cos^{2}{\\left(\\mathbf{\\phi} \\right)} + C\\right) \\sin{\\left(\\mathbf{\\theta} \\right)}$"
      ],
      "text/plain": [
       "<IPython.core.display.Math object>"
      ]
     },
     "metadata": {},
     "output_type": "display_data"
    },
    {
     "data": {
      "text/latex": [
       "$\\displaystyle \\Gamma_2{0,2} = 0$"
      ],
      "text/plain": [
       "<IPython.core.display.Math object>"
      ]
     },
     "metadata": {},
     "output_type": "display_data"
    },
    {
     "data": {
      "text/latex": [
       "$\\displaystyle \\Gamma_2{1,0} = 0.5 \\left(- A \\sin^{2}{\\left(\\mathbf{\\phi} \\right)} + A \\cos^{2}{\\left(\\mathbf{\\phi} \\right)} + B \\sin^{2}{\\left(\\mathbf{\\phi} \\right)} - B \\cos^{2}{\\left(\\mathbf{\\phi} \\right)} + C\\right) \\sin{\\left(\\mathbf{\\theta} \\right)}$"
      ],
      "text/plain": [
       "<IPython.core.display.Math object>"
      ]
     },
     "metadata": {},
     "output_type": "display_data"
    },
    {
     "data": {
      "text/latex": [
       "$\\displaystyle \\Gamma_2{1,1} = 0$"
      ],
      "text/plain": [
       "<IPython.core.display.Math object>"
      ]
     },
     "metadata": {},
     "output_type": "display_data"
    },
    {
     "data": {
      "text/latex": [
       "$\\displaystyle \\Gamma_2{1,2} = 0.5 \\left(- A + B\\right) \\sin{\\left(2 \\mathbf{\\phi} \\right)}$"
      ],
      "text/plain": [
       "<IPython.core.display.Math object>"
      ]
     },
     "metadata": {},
     "output_type": "display_data"
    },
    {
     "data": {
      "text/latex": [
       "$\\displaystyle \\Gamma_2{2,0} = 0$"
      ],
      "text/plain": [
       "<IPython.core.display.Math object>"
      ]
     },
     "metadata": {},
     "output_type": "display_data"
    },
    {
     "data": {
      "text/latex": [
       "$\\displaystyle \\Gamma_2{2,1} = 0.5 \\left(- A + B\\right) \\sin{\\left(2 \\mathbf{\\phi} \\right)}$"
      ],
      "text/plain": [
       "<IPython.core.display.Math object>"
      ]
     },
     "metadata": {},
     "output_type": "display_data"
    },
    {
     "data": {
      "text/latex": [
       "$\\displaystyle \\Gamma_2{2,2} = 0$"
      ],
      "text/plain": [
       "<IPython.core.display.Math object>"
      ]
     },
     "metadata": {},
     "output_type": "display_data"
    }
   ],
   "source": [
    "for i in range(3):\n",
    "    for j in range(3):\n",
    "        for k in range(3):\n",
    "\n",
    "            display(Math('\\Gamma_{}{{{},{}}} = '.format(i, j, k) + latex(simplify(simplify(christoffel_1[i,j,\n",
    "                                                                                                         k])))))"
   ]
  },
  {
   "cell_type": "code",
   "execution_count": 239,
   "metadata": {},
   "outputs": [],
   "source": [
    "christoffel_second = [[[Add(*[matrix[i, l]*christoffel_1[l, j, k] for l in indices])\n",
    "                     for k in indices]\n",
    "                    for j in indices]\n",
    "                   for i in indices]"
   ]
  },
  {
   "cell_type": "code",
   "execution_count": 240,
   "metadata": {},
   "outputs": [],
   "source": [
    "christoffel_second = ImmutableDenseNDimArray(christoffel_second)"
   ]
  },
  {
   "cell_type": "code",
   "execution_count": 247,
   "metadata": {},
   "outputs": [],
   "source": [
    "s_fields = set()"
   ]
  },
  {
   "cell_type": "code",
   "execution_count": 248,
   "metadata": {},
   "outputs": [],
   "source": [
    "scalar = BaseScalarField(coord_sys, 2)"
   ]
  },
  {
   "cell_type": "code",
   "execution_count": 249,
   "metadata": {},
   "outputs": [],
   "source": [
    "for e in matrix:\n",
    "        s_fields.update(e.atoms(BaseScalarField))"
   ]
  },
  {
   "cell_type": "code",
   "execution_count": 250,
   "metadata": {},
   "outputs": [
    {
     "data": {
      "text/plain": [
       "[phi, theta]"
      ]
     },
     "execution_count": 250,
     "metadata": {},
     "output_type": "execute_result"
    }
   ],
   "source": [
    "s_fields = list(s_fields)\n",
    "s_fields"
   ]
  },
  {
   "cell_type": "code",
   "execution_count": 224,
   "metadata": {},
   "outputs": [
    {
     "data": {
      "text/plain": [
       "[_psi, _phi, _theta]"
      ]
     },
     "execution_count": 224,
     "metadata": {},
     "output_type": "execute_result"
    }
   ],
   "source": [
    "dums = coord_sys._dummies\n",
    "dums"
   ]
  },
  {
   "cell_type": "code",
   "execution_count": 252,
   "metadata": {},
   "outputs": [
    {
     "data": {
      "text/plain": [
       "[(phi, _psi), (theta, _phi)]"
      ]
     },
     "execution_count": 252,
     "metadata": {},
     "output_type": "execute_result"
    }
   ],
   "source": [
    "list(zip(s_fields, dums))"
   ]
  },
  {
   "cell_type": "code",
   "execution_count": 253,
   "metadata": {},
   "outputs": [
    {
     "data": {
      "text/plain": [
       "[(_psi, phi), (_phi, theta)]"
      ]
     },
     "execution_count": 253,
     "metadata": {},
     "output_type": "execute_result"
    }
   ],
   "source": [
    "list(zip(dums, s_fields))"
   ]
  },
  {
   "cell_type": "code",
   "execution_count": 238,
   "metadata": {},
   "outputs": [],
   "source": [
    "matrix = matrix.subs(list(zip(s_fields, dums))).inv().subs(list(zip(dums, s_fields)))"
   ]
  },
  {
   "cell_type": "code",
   "execution_count": 244,
   "metadata": {
    "scrolled": false
   },
   "outputs": [
    {
     "data": {
      "text/latex": [
       "$\\displaystyle \\Gamma^0_{0,0} = \\frac{1.0 \\left(A^{2} \\sin^{2}{\\left(\\mathbf{\\phi} \\right)} + A^{2} \\cos^{2}{\\left(\\mathbf{\\phi} \\right)} - A C - B^{2} \\sin^{2}{\\left(\\mathbf{\\phi} \\right)} - B^{2} \\cos^{2}{\\left(\\mathbf{\\phi} \\right)} + B C\\right) \\sin{\\left(\\mathbf{\\phi} \\right)} \\cos{\\left(\\mathbf{\\phi} \\right)} \\cos{\\left(\\mathbf{\\theta} \\right)}}{A B \\left(1.0 \\sin^{4}{\\left(\\mathbf{\\phi} \\right)} + 1.0 \\cos^{4}{\\left(\\mathbf{\\phi} \\right)} - 0.25 \\cos{\\left(4 \\mathbf{\\phi} \\right)} + 0.25\\right)}$"
      ],
      "text/plain": [
       "<IPython.core.display.Math object>"
      ]
     },
     "metadata": {},
     "output_type": "display_data"
    },
    {
     "data": {
      "text/latex": [
       "$\\displaystyle \\Gamma^0_{0,1} = \\frac{0.25 \\left(A^{2} - A C - B^{2} + B C\\right) \\sin{\\left(2 \\mathbf{\\phi} \\right)}}{A B}$"
      ],
      "text/plain": [
       "<IPython.core.display.Math object>"
      ]
     },
     "metadata": {},
     "output_type": "display_data"
    },
    {
     "data": {
      "text/latex": [
       "$\\displaystyle \\Gamma^0_{0,2} = \\frac{0.25 A^{2} \\left(1 - \\cos{\\left(4 \\mathbf{\\phi} \\right)}\\right) + 0.5 A^{2} \\left(\\cos{\\left(2 \\mathbf{\\phi} \\right)} + 1\\right)^{2} + 0.5 A B \\left(\\cos{\\left(2 \\mathbf{\\phi} \\right)} + 1\\right)^{2} - 0.5 A B \\left(\\cos{\\left(4 \\mathbf{\\phi} \\right)} - 1\\right) + 2.0 A B \\sin^{4}{\\left(\\mathbf{\\phi} \\right)} - 1.0 A C \\left(\\cos{\\left(2 \\mathbf{\\phi} \\right)} + 1\\right) + 0.25 B^{2} \\left(1 - \\cos{\\left(4 \\mathbf{\\phi} \\right)}\\right) + 2.0 B^{2} \\sin^{4}{\\left(\\mathbf{\\phi} \\right)} + 1.0 B C \\left(\\cos{\\left(2 \\mathbf{\\phi} \\right)} - 1\\right)}{A B \\left(\\left(\\cos{\\left(2 \\mathbf{\\phi} \\right)} + 1\\right)^{2} + 4 \\sin^{4}{\\left(\\mathbf{\\phi} \\right)} - \\cos{\\left(4 \\mathbf{\\phi} \\right)} + 1\\right) \\tan{\\left(\\mathbf{\\theta} \\right)}}$"
      ],
      "text/plain": [
       "<IPython.core.display.Math object>"
      ]
     },
     "metadata": {},
     "output_type": "display_data"
    },
    {
     "data": {
      "text/latex": [
       "$\\displaystyle \\Gamma^0_{1,0} = \\frac{0.25 \\left(A^{2} - A C - B^{2} + B C\\right) \\sin{\\left(2 \\mathbf{\\phi} \\right)}}{A B}$"
      ],
      "text/plain": [
       "<IPython.core.display.Math object>"
      ]
     },
     "metadata": {},
     "output_type": "display_data"
    },
    {
     "data": {
      "text/latex": [
       "$\\displaystyle \\Gamma^0_{1,1} = 0$"
      ],
      "text/plain": [
       "<IPython.core.display.Math object>"
      ]
     },
     "metadata": {},
     "output_type": "display_data"
    },
    {
     "data": {
      "text/latex": [
       "$\\displaystyle \\Gamma^0_{1,2} = \\frac{0.0625 A^{2} \\left(1 - \\cos{\\left(4 \\mathbf{\\phi} \\right)}\\right) + 0.5 A^{2} \\cos^{4}{\\left(\\mathbf{\\phi} \\right)} + 0.125 A B \\left(\\cos{\\left(4 \\mathbf{\\phi} \\right)} - 1\\right) - 0.5 A B \\sin^{4}{\\left(\\mathbf{\\phi} \\right)} - 0.5 A B \\cos^{4}{\\left(\\mathbf{\\phi} \\right)} - 0.5 A C \\cos^{2}{\\left(\\mathbf{\\phi} \\right)} + 0.0625 B^{2} \\left(1 - \\cos{\\left(4 \\mathbf{\\phi} \\right)}\\right) + 0.5 B^{2} \\sin^{4}{\\left(\\mathbf{\\phi} \\right)} - 0.5 B C \\sin^{2}{\\left(\\mathbf{\\phi} \\right)}}{A B \\left(1.0 \\sin^{4}{\\left(\\mathbf{\\phi} \\right)} + 1.0 \\cos^{4}{\\left(\\mathbf{\\phi} \\right)} - 0.25 \\cos{\\left(4 \\mathbf{\\phi} \\right)} + 0.25\\right) \\sin{\\left(\\mathbf{\\theta} \\right)}}$"
      ],
      "text/plain": [
       "<IPython.core.display.Math object>"
      ]
     },
     "metadata": {},
     "output_type": "display_data"
    },
    {
     "data": {
      "text/latex": [
       "$\\displaystyle \\Gamma^0_{2,0} = \\frac{0.25 A^{2} \\left(1 - \\cos{\\left(4 \\mathbf{\\phi} \\right)}\\right) + 0.5 A^{2} \\left(\\cos{\\left(2 \\mathbf{\\phi} \\right)} + 1\\right)^{2} + 0.5 A B \\left(\\cos{\\left(2 \\mathbf{\\phi} \\right)} + 1\\right)^{2} - 0.5 A B \\left(\\cos{\\left(4 \\mathbf{\\phi} \\right)} - 1\\right) + 2.0 A B \\sin^{4}{\\left(\\mathbf{\\phi} \\right)} - 1.0 A C \\left(\\cos{\\left(2 \\mathbf{\\phi} \\right)} + 1\\right) + 0.25 B^{2} \\left(1 - \\cos{\\left(4 \\mathbf{\\phi} \\right)}\\right) + 2.0 B^{2} \\sin^{4}{\\left(\\mathbf{\\phi} \\right)} + 1.0 B C \\left(\\cos{\\left(2 \\mathbf{\\phi} \\right)} - 1\\right)}{A B \\left(\\left(\\cos{\\left(2 \\mathbf{\\phi} \\right)} + 1\\right)^{2} + 4 \\sin^{4}{\\left(\\mathbf{\\phi} \\right)} - \\cos{\\left(4 \\mathbf{\\phi} \\right)} + 1\\right) \\tan{\\left(\\mathbf{\\theta} \\right)}}$"
      ],
      "text/plain": [
       "<IPython.core.display.Math object>"
      ]
     },
     "metadata": {},
     "output_type": "display_data"
    },
    {
     "data": {
      "text/latex": [
       "$\\displaystyle \\Gamma^0_{2,1} = \\frac{0.0625 A^{2} \\left(1 - \\cos{\\left(4 \\mathbf{\\phi} \\right)}\\right) + 0.5 A^{2} \\cos^{4}{\\left(\\mathbf{\\phi} \\right)} + 0.125 A B \\left(\\cos{\\left(4 \\mathbf{\\phi} \\right)} - 1\\right) - 0.5 A B \\sin^{4}{\\left(\\mathbf{\\phi} \\right)} - 0.5 A B \\cos^{4}{\\left(\\mathbf{\\phi} \\right)} - 0.5 A C \\cos^{2}{\\left(\\mathbf{\\phi} \\right)} + 0.0625 B^{2} \\left(1 - \\cos{\\left(4 \\mathbf{\\phi} \\right)}\\right) + 0.5 B^{2} \\sin^{4}{\\left(\\mathbf{\\phi} \\right)} - 0.5 B C \\sin^{2}{\\left(\\mathbf{\\phi} \\right)}}{A B \\left(1.0 \\sin^{4}{\\left(\\mathbf{\\phi} \\right)} + 1.0 \\cos^{4}{\\left(\\mathbf{\\phi} \\right)} - 0.25 \\cos{\\left(4 \\mathbf{\\phi} \\right)} + 0.25\\right) \\sin{\\left(\\mathbf{\\theta} \\right)}}$"
      ],
      "text/plain": [
       "<IPython.core.display.Math object>"
      ]
     },
     "metadata": {},
     "output_type": "display_data"
    },
    {
     "data": {
      "text/latex": [
       "$\\displaystyle \\Gamma^0_{2,2} = 0$"
      ],
      "text/plain": [
       "<IPython.core.display.Math object>"
      ]
     },
     "metadata": {},
     "output_type": "display_data"
    },
    {
     "data": {
      "text/latex": [
       "$\\displaystyle \\Gamma^1_{0,0} = \\frac{1.0 \\left(1.0 A^{2} B \\sin^{4}{\\left(\\mathbf{\\phi} \\right)} \\sin^{2}{\\left(\\mathbf{\\theta} \\right)} + 2.0 A^{2} B \\sin^{2}{\\left(\\mathbf{\\phi} \\right)} \\sin^{2}{\\left(\\mathbf{\\theta} \\right)} \\cos^{2}{\\left(\\mathbf{\\phi} \\right)} + 1.0 A^{2} B \\sin^{2}{\\left(\\mathbf{\\theta} \\right)} \\cos^{4}{\\left(\\mathbf{\\phi} \\right)} + 1.0 A^{2} C \\sin^{2}{\\left(\\mathbf{\\phi} \\right)} \\cos^{2}{\\left(\\mathbf{\\theta} \\right)} + 1.0 A^{2} C \\cos^{2}{\\left(\\mathbf{\\phi} \\right)} \\cos^{2}{\\left(\\mathbf{\\theta} \\right)} - 1.0 A B^{2} \\sin^{4}{\\left(\\mathbf{\\phi} \\right)} \\sin^{2}{\\left(\\mathbf{\\theta} \\right)} - 2.0 A B^{2} \\sin^{2}{\\left(\\mathbf{\\phi} \\right)} \\sin^{2}{\\left(\\mathbf{\\theta} \\right)} \\cos^{2}{\\left(\\mathbf{\\phi} \\right)} - 1.0 A B^{2} \\sin^{2}{\\left(\\mathbf{\\theta} \\right)} \\cos^{4}{\\left(\\mathbf{\\phi} \\right)} - 1.0 A C^{2} \\cos^{2}{\\left(\\mathbf{\\theta} \\right)} - 1.0 B^{2} C \\sin^{2}{\\left(\\mathbf{\\phi} \\right)} \\cos^{2}{\\left(\\mathbf{\\theta} \\right)} - 1.0 B^{2} C \\cos^{2}{\\left(\\mathbf{\\phi} \\right)} \\cos^{2}{\\left(\\mathbf{\\theta} \\right)} + 1.0 B C^{2} \\cos^{2}{\\left(\\mathbf{\\theta} \\right)}\\right) \\sin{\\left(\\mathbf{\\phi} \\right)} \\cos{\\left(\\mathbf{\\phi} \\right)}}{A B C \\left(- 1.0 \\sin^{4}{\\left(\\mathbf{\\phi} \\right)} - 1.0 \\cos^{4}{\\left(\\mathbf{\\phi} \\right)} + 0.25 \\cos{\\left(4 \\mathbf{\\phi} \\right)} - 0.25\\right)}$"
      ],
      "text/plain": [
       "<IPython.core.display.Math object>"
      ]
     },
     "metadata": {},
     "output_type": "display_data"
    },
    {
     "data": {
      "text/latex": [
       "$\\displaystyle \\Gamma^1_{0,1} = \\frac{0.5 \\left(A^{2} \\sin^{2}{\\left(\\mathbf{\\phi} \\right)} + A^{2} \\cos^{2}{\\left(\\mathbf{\\phi} \\right)} - A C - B^{2} \\sin^{2}{\\left(\\mathbf{\\phi} \\right)} - B^{2} \\cos^{2}{\\left(\\mathbf{\\phi} \\right)} + B C\\right) \\sin{\\left(\\mathbf{\\phi} \\right)} \\cos{\\left(\\mathbf{\\phi} \\right)} \\cos{\\left(\\mathbf{\\theta} \\right)}}{A B \\left(- 1.0 \\sin^{4}{\\left(\\mathbf{\\phi} \\right)} - 1.0 \\cos^{4}{\\left(\\mathbf{\\phi} \\right)} + 0.25 \\cos{\\left(4 \\mathbf{\\phi} \\right)} - 0.25\\right)}$"
      ],
      "text/plain": [
       "<IPython.core.display.Math object>"
      ]
     },
     "metadata": {},
     "output_type": "display_data"
    },
    {
     "data": {
      "text/latex": [
       "$\\displaystyle \\Gamma^1_{0,2} = \\frac{0.5 A^{2} B \\sin^{6}{\\left(\\mathbf{\\phi} \\right)} \\sin^{2}{\\left(\\mathbf{\\theta} \\right)} + 0.5 A^{2} B \\sin^{4}{\\left(\\mathbf{\\phi} \\right)} \\sin^{2}{\\left(\\mathbf{\\theta} \\right)} \\cos^{2}{\\left(\\mathbf{\\phi} \\right)} - 0.5 A^{2} B \\sin^{2}{\\left(\\mathbf{\\phi} \\right)} \\sin^{2}{\\left(\\mathbf{\\theta} \\right)} \\cos^{4}{\\left(\\mathbf{\\phi} \\right)} - 0.5 A^{2} B \\sin^{2}{\\left(\\mathbf{\\theta} \\right)} \\cos^{6}{\\left(\\mathbf{\\phi} \\right)} - 0.5 A^{2} C \\sin^{2}{\\left(\\mathbf{\\phi} \\right)} \\cos^{2}{\\left(\\mathbf{\\phi} \\right)} \\cos^{2}{\\left(\\mathbf{\\theta} \\right)} - 0.5 A^{2} C \\cos^{4}{\\left(\\mathbf{\\phi} \\right)} \\cos^{2}{\\left(\\mathbf{\\theta} \\right)} - 0.5 A B^{2} \\sin^{6}{\\left(\\mathbf{\\phi} \\right)} \\sin^{2}{\\left(\\mathbf{\\theta} \\right)} - 0.5 A B^{2} \\sin^{4}{\\left(\\mathbf{\\phi} \\right)} \\sin^{2}{\\left(\\mathbf{\\theta} \\right)} \\cos^{2}{\\left(\\mathbf{\\phi} \\right)} + 0.5 A B^{2} \\sin^{2}{\\left(\\mathbf{\\phi} \\right)} \\sin^{2}{\\left(\\mathbf{\\theta} \\right)} \\cos^{4}{\\left(\\mathbf{\\phi} \\right)} + 0.5 A B^{2} \\sin^{2}{\\left(\\mathbf{\\theta} \\right)} \\cos^{6}{\\left(\\mathbf{\\phi} \\right)} - 0.5 A B C \\sin^{4}{\\left(\\mathbf{\\phi} \\right)} \\sin^{2}{\\left(\\mathbf{\\theta} \\right)} - 0.5 A B C \\sin^{4}{\\left(\\mathbf{\\phi} \\right)} \\cos^{2}{\\left(\\mathbf{\\theta} \\right)} - 1.0 A B C \\sin^{2}{\\left(\\mathbf{\\phi} \\right)} \\sin^{2}{\\left(\\mathbf{\\theta} \\right)} \\cos^{2}{\\left(\\mathbf{\\phi} \\right)} - 1.0 A B C \\sin^{2}{\\left(\\mathbf{\\phi} \\right)} \\cos^{2}{\\left(\\mathbf{\\phi} \\right)} \\cos^{2}{\\left(\\mathbf{\\theta} \\right)} - 0.5 A B C \\sin^{2}{\\left(\\mathbf{\\theta} \\right)} \\cos^{4}{\\left(\\mathbf{\\phi} \\right)} - 0.5 A B C \\cos^{4}{\\left(\\mathbf{\\phi} \\right)} \\cos^{2}{\\left(\\mathbf{\\theta} \\right)} + 0.5 A C^{2} \\cos^{2}{\\left(\\mathbf{\\phi} \\right)} \\cos^{2}{\\left(\\mathbf{\\theta} \\right)} - 0.5 B^{2} C \\sin^{4}{\\left(\\mathbf{\\phi} \\right)} \\cos^{2}{\\left(\\mathbf{\\theta} \\right)} - 0.5 B^{2} C \\sin^{2}{\\left(\\mathbf{\\phi} \\right)} \\cos^{2}{\\left(\\mathbf{\\phi} \\right)} \\cos^{2}{\\left(\\mathbf{\\theta} \\right)} + 0.5 B C^{2} \\sin^{2}{\\left(\\mathbf{\\phi} \\right)} \\cos^{2}{\\left(\\mathbf{\\theta} \\right)}}{A B C \\left(1.0 \\sin^{4}{\\left(\\mathbf{\\phi} \\right)} + 1.0 \\cos^{4}{\\left(\\mathbf{\\phi} \\right)} - 0.25 \\cos{\\left(4 \\mathbf{\\phi} \\right)} + 0.25\\right) \\sin{\\left(\\mathbf{\\theta} \\right)}}$"
      ],
      "text/plain": [
       "<IPython.core.display.Math object>"
      ]
     },
     "metadata": {},
     "output_type": "display_data"
    },
    {
     "data": {
      "text/latex": [
       "$\\displaystyle \\Gamma^1_{1,0} = \\frac{0.5 \\left(A^{2} \\sin^{2}{\\left(\\mathbf{\\phi} \\right)} + A^{2} \\cos^{2}{\\left(\\mathbf{\\phi} \\right)} - A C - B^{2} \\sin^{2}{\\left(\\mathbf{\\phi} \\right)} - B^{2} \\cos^{2}{\\left(\\mathbf{\\phi} \\right)} + B C\\right) \\sin{\\left(\\mathbf{\\phi} \\right)} \\cos{\\left(\\mathbf{\\phi} \\right)} \\cos{\\left(\\mathbf{\\theta} \\right)}}{A B \\left(- 1.0 \\sin^{4}{\\left(\\mathbf{\\phi} \\right)} - 1.0 \\cos^{4}{\\left(\\mathbf{\\phi} \\right)} + 0.25 \\cos{\\left(4 \\mathbf{\\phi} \\right)} - 0.25\\right)}$"
      ],
      "text/plain": [
       "<IPython.core.display.Math object>"
      ]
     },
     "metadata": {},
     "output_type": "display_data"
    },
    {
     "data": {
      "text/latex": [
       "$\\displaystyle \\Gamma^1_{1,1} = 0$"
      ],
      "text/plain": [
       "<IPython.core.display.Math object>"
      ]
     },
     "metadata": {},
     "output_type": "display_data"
    },
    {
     "data": {
      "text/latex": [
       "$\\displaystyle \\Gamma^1_{1,2} = \\frac{- 0.5 A^{2} \\left(\\cos{\\left(2 \\mathbf{\\phi} \\right)} + 1\\right)^{2} + 0.25 A^{2} \\left(\\cos{\\left(4 \\mathbf{\\phi} \\right)} - 1\\right) + 0.5 A B \\left(\\cos{\\left(2 \\mathbf{\\phi} \\right)} + 1\\right)^{2} - 0.5 A B \\left(\\cos{\\left(4 \\mathbf{\\phi} \\right)} - 1\\right) + 2.0 A B \\sin^{4}{\\left(\\mathbf{\\phi} \\right)} + 1.0 A C \\left(\\cos{\\left(2 \\mathbf{\\phi} \\right)} + 1\\right) + 0.25 B^{2} \\left(\\cos{\\left(4 \\mathbf{\\phi} \\right)} - 1\\right) - 2.0 B^{2} \\sin^{4}{\\left(\\mathbf{\\phi} \\right)} - 1.0 B C \\left(\\cos{\\left(2 \\mathbf{\\phi} \\right)} - 1\\right)}{A B \\left(\\left(\\cos{\\left(2 \\mathbf{\\phi} \\right)} + 1\\right)^{2} + 4 \\sin^{4}{\\left(\\mathbf{\\phi} \\right)} - \\cos{\\left(4 \\mathbf{\\phi} \\right)} + 1\\right) \\tan{\\left(\\mathbf{\\theta} \\right)}}$"
      ],
      "text/plain": [
       "<IPython.core.display.Math object>"
      ]
     },
     "metadata": {},
     "output_type": "display_data"
    },
    {
     "data": {
      "text/latex": [
       "$\\displaystyle \\Gamma^1_{2,0} = \\frac{0.5 A^{2} B \\sin^{6}{\\left(\\mathbf{\\phi} \\right)} \\sin^{2}{\\left(\\mathbf{\\theta} \\right)} + 0.5 A^{2} B \\sin^{4}{\\left(\\mathbf{\\phi} \\right)} \\sin^{2}{\\left(\\mathbf{\\theta} \\right)} \\cos^{2}{\\left(\\mathbf{\\phi} \\right)} - 0.5 A^{2} B \\sin^{2}{\\left(\\mathbf{\\phi} \\right)} \\sin^{2}{\\left(\\mathbf{\\theta} \\right)} \\cos^{4}{\\left(\\mathbf{\\phi} \\right)} - 0.5 A^{2} B \\sin^{2}{\\left(\\mathbf{\\theta} \\right)} \\cos^{6}{\\left(\\mathbf{\\phi} \\right)} - 0.5 A^{2} C \\sin^{2}{\\left(\\mathbf{\\phi} \\right)} \\cos^{2}{\\left(\\mathbf{\\phi} \\right)} \\cos^{2}{\\left(\\mathbf{\\theta} \\right)} - 0.5 A^{2} C \\cos^{4}{\\left(\\mathbf{\\phi} \\right)} \\cos^{2}{\\left(\\mathbf{\\theta} \\right)} - 0.5 A B^{2} \\sin^{6}{\\left(\\mathbf{\\phi} \\right)} \\sin^{2}{\\left(\\mathbf{\\theta} \\right)} - 0.5 A B^{2} \\sin^{4}{\\left(\\mathbf{\\phi} \\right)} \\sin^{2}{\\left(\\mathbf{\\theta} \\right)} \\cos^{2}{\\left(\\mathbf{\\phi} \\right)} + 0.5 A B^{2} \\sin^{2}{\\left(\\mathbf{\\phi} \\right)} \\sin^{2}{\\left(\\mathbf{\\theta} \\right)} \\cos^{4}{\\left(\\mathbf{\\phi} \\right)} + 0.5 A B^{2} \\sin^{2}{\\left(\\mathbf{\\theta} \\right)} \\cos^{6}{\\left(\\mathbf{\\phi} \\right)} - 0.5 A B C \\sin^{4}{\\left(\\mathbf{\\phi} \\right)} \\sin^{2}{\\left(\\mathbf{\\theta} \\right)} - 0.5 A B C \\sin^{4}{\\left(\\mathbf{\\phi} \\right)} \\cos^{2}{\\left(\\mathbf{\\theta} \\right)} - 1.0 A B C \\sin^{2}{\\left(\\mathbf{\\phi} \\right)} \\sin^{2}{\\left(\\mathbf{\\theta} \\right)} \\cos^{2}{\\left(\\mathbf{\\phi} \\right)} - 1.0 A B C \\sin^{2}{\\left(\\mathbf{\\phi} \\right)} \\cos^{2}{\\left(\\mathbf{\\phi} \\right)} \\cos^{2}{\\left(\\mathbf{\\theta} \\right)} - 0.5 A B C \\sin^{2}{\\left(\\mathbf{\\theta} \\right)} \\cos^{4}{\\left(\\mathbf{\\phi} \\right)} - 0.5 A B C \\cos^{4}{\\left(\\mathbf{\\phi} \\right)} \\cos^{2}{\\left(\\mathbf{\\theta} \\right)} + 0.5 A C^{2} \\cos^{2}{\\left(\\mathbf{\\phi} \\right)} \\cos^{2}{\\left(\\mathbf{\\theta} \\right)} - 0.5 B^{2} C \\sin^{4}{\\left(\\mathbf{\\phi} \\right)} \\cos^{2}{\\left(\\mathbf{\\theta} \\right)} - 0.5 B^{2} C \\sin^{2}{\\left(\\mathbf{\\phi} \\right)} \\cos^{2}{\\left(\\mathbf{\\phi} \\right)} \\cos^{2}{\\left(\\mathbf{\\theta} \\right)} + 0.5 B C^{2} \\sin^{2}{\\left(\\mathbf{\\phi} \\right)} \\cos^{2}{\\left(\\mathbf{\\theta} \\right)}}{A B C \\left(1.0 \\sin^{4}{\\left(\\mathbf{\\phi} \\right)} + 1.0 \\cos^{4}{\\left(\\mathbf{\\phi} \\right)} - 0.25 \\cos{\\left(4 \\mathbf{\\phi} \\right)} + 0.25\\right) \\sin{\\left(\\mathbf{\\theta} \\right)}}$"
      ],
      "text/plain": [
       "<IPython.core.display.Math object>"
      ]
     },
     "metadata": {},
     "output_type": "display_data"
    },
    {
     "data": {
      "text/latex": [
       "$\\displaystyle \\Gamma^1_{2,1} = \\frac{- 0.5 A^{2} \\left(\\cos{\\left(2 \\mathbf{\\phi} \\right)} + 1\\right)^{2} + 0.25 A^{2} \\left(\\cos{\\left(4 \\mathbf{\\phi} \\right)} - 1\\right) + 0.5 A B \\left(\\cos{\\left(2 \\mathbf{\\phi} \\right)} + 1\\right)^{2} - 0.5 A B \\left(\\cos{\\left(4 \\mathbf{\\phi} \\right)} - 1\\right) + 2.0 A B \\sin^{4}{\\left(\\mathbf{\\phi} \\right)} + 1.0 A C \\left(\\cos{\\left(2 \\mathbf{\\phi} \\right)} + 1\\right) + 0.25 B^{2} \\left(\\cos{\\left(4 \\mathbf{\\phi} \\right)} - 1\\right) - 2.0 B^{2} \\sin^{4}{\\left(\\mathbf{\\phi} \\right)} - 1.0 B C \\left(\\cos{\\left(2 \\mathbf{\\phi} \\right)} - 1\\right)}{A B \\left(\\left(\\cos{\\left(2 \\mathbf{\\phi} \\right)} + 1\\right)^{2} + 4 \\sin^{4}{\\left(\\mathbf{\\phi} \\right)} - \\cos{\\left(4 \\mathbf{\\phi} \\right)} + 1\\right) \\tan{\\left(\\mathbf{\\theta} \\right)}}$"
      ],
      "text/plain": [
       "<IPython.core.display.Math object>"
      ]
     },
     "metadata": {},
     "output_type": "display_data"
    },
    {
     "data": {
      "text/latex": [
       "$\\displaystyle \\Gamma^1_{2,2} = \\frac{0.5 \\left(A - B\\right) \\sin{\\left(2 \\mathbf{\\phi} \\right)}}{C}$"
      ],
      "text/plain": [
       "<IPython.core.display.Math object>"
      ]
     },
     "metadata": {},
     "output_type": "display_data"
    },
    {
     "data": {
      "text/latex": [
       "$\\displaystyle \\Gamma^2_{0,0} = \\frac{0.125 \\left(A^{2} \\left(\\cos{\\left(4 \\mathbf{\\phi} \\right)} - 1\\right) - 8 A^{2} \\sin^{4}{\\left(\\mathbf{\\phi} \\right)} + 8 A C \\sin^{2}{\\left(\\mathbf{\\phi} \\right)} + B^{2} \\left(\\cos{\\left(4 \\mathbf{\\phi} \\right)} - 1\\right) - 8 B^{2} \\cos^{4}{\\left(\\mathbf{\\phi} \\right)} + 8 B C \\cos^{2}{\\left(\\mathbf{\\phi} \\right)}\\right) \\sin{\\left(\\mathbf{\\theta} \\right)} \\cos{\\left(\\mathbf{\\theta} \\right)}}{A B \\left(1.0 \\sin^{4}{\\left(\\mathbf{\\phi} \\right)} + 1.0 \\cos^{4}{\\left(\\mathbf{\\phi} \\right)} - 0.25 \\cos{\\left(4 \\mathbf{\\phi} \\right)} + 0.25\\right)}$"
      ],
      "text/plain": [
       "<IPython.core.display.Math object>"
      ]
     },
     "metadata": {},
     "output_type": "display_data"
    },
    {
     "data": {
      "text/latex": [
       "$\\displaystyle \\Gamma^2_{0,1} = \\frac{1.0 \\left(0.0625 A^{2} \\left(\\cos{\\left(4 \\mathbf{\\phi} \\right)} - 1\\right) - 0.5 A^{2} \\sin^{4}{\\left(\\mathbf{\\phi} \\right)} - 0.125 A B \\left(\\cos{\\left(4 \\mathbf{\\phi} \\right)} - 1\\right) + 0.5 A B \\sin^{4}{\\left(\\mathbf{\\phi} \\right)} + 0.5 A B \\cos^{4}{\\left(\\mathbf{\\phi} \\right)} + 0.5 A C \\sin^{2}{\\left(\\mathbf{\\phi} \\right)} + 0.0625 B^{2} \\left(\\cos{\\left(4 \\mathbf{\\phi} \\right)} - 1\\right) - 0.5 B^{2} \\cos^{4}{\\left(\\mathbf{\\phi} \\right)} + 0.5 B C \\cos^{2}{\\left(\\mathbf{\\phi} \\right)}\\right) \\sin{\\left(\\mathbf{\\theta} \\right)}}{A B \\left(1.0 \\sin^{4}{\\left(\\mathbf{\\phi} \\right)} + 1.0 \\cos^{4}{\\left(\\mathbf{\\phi} \\right)} - 0.25 \\cos{\\left(4 \\mathbf{\\phi} \\right)} + 0.25\\right)}$"
      ],
      "text/plain": [
       "<IPython.core.display.Math object>"
      ]
     },
     "metadata": {},
     "output_type": "display_data"
    },
    {
     "data": {
      "text/latex": [
       "$\\displaystyle \\Gamma^2_{0,2} = \\frac{0.5 \\left(A^{2} \\sin^{2}{\\left(\\mathbf{\\phi} \\right)} + A^{2} \\cos^{2}{\\left(\\mathbf{\\phi} \\right)} - A C - B^{2} \\sin^{2}{\\left(\\mathbf{\\phi} \\right)} - B^{2} \\cos^{2}{\\left(\\mathbf{\\phi} \\right)} + B C\\right) \\sin{\\left(\\mathbf{\\phi} \\right)} \\cos{\\left(\\mathbf{\\phi} \\right)} \\cos{\\left(\\mathbf{\\theta} \\right)}}{A B \\left(- 1.0 \\sin^{4}{\\left(\\mathbf{\\phi} \\right)} - 1.0 \\cos^{4}{\\left(\\mathbf{\\phi} \\right)} + 0.25 \\cos{\\left(4 \\mathbf{\\phi} \\right)} - 0.25\\right)}$"
      ],
      "text/plain": [
       "<IPython.core.display.Math object>"
      ]
     },
     "metadata": {},
     "output_type": "display_data"
    },
    {
     "data": {
      "text/latex": [
       "$\\displaystyle \\Gamma^2_{1,0} = \\frac{1.0 \\left(0.0625 A^{2} \\left(\\cos{\\left(4 \\mathbf{\\phi} \\right)} - 1\\right) - 0.5 A^{2} \\sin^{4}{\\left(\\mathbf{\\phi} \\right)} - 0.125 A B \\left(\\cos{\\left(4 \\mathbf{\\phi} \\right)} - 1\\right) + 0.5 A B \\sin^{4}{\\left(\\mathbf{\\phi} \\right)} + 0.5 A B \\cos^{4}{\\left(\\mathbf{\\phi} \\right)} + 0.5 A C \\sin^{2}{\\left(\\mathbf{\\phi} \\right)} + 0.0625 B^{2} \\left(\\cos{\\left(4 \\mathbf{\\phi} \\right)} - 1\\right) - 0.5 B^{2} \\cos^{4}{\\left(\\mathbf{\\phi} \\right)} + 0.5 B C \\cos^{2}{\\left(\\mathbf{\\phi} \\right)}\\right) \\sin{\\left(\\mathbf{\\theta} \\right)}}{A B \\left(1.0 \\sin^{4}{\\left(\\mathbf{\\phi} \\right)} + 1.0 \\cos^{4}{\\left(\\mathbf{\\phi} \\right)} - 0.25 \\cos{\\left(4 \\mathbf{\\phi} \\right)} + 0.25\\right)}$"
      ],
      "text/plain": [
       "<IPython.core.display.Math object>"
      ]
     },
     "metadata": {},
     "output_type": "display_data"
    },
    {
     "data": {
      "text/latex": [
       "$\\displaystyle \\Gamma^2_{1,1} = 0$"
      ],
      "text/plain": [
       "<IPython.core.display.Math object>"
      ]
     },
     "metadata": {},
     "output_type": "display_data"
    },
    {
     "data": {
      "text/latex": [
       "$\\displaystyle \\Gamma^2_{1,2} = - \\frac{0.25 \\left(A^{2} - A C - B^{2} + B C\\right) \\sin{\\left(2 \\mathbf{\\phi} \\right)}}{A B}$"
      ],
      "text/plain": [
       "<IPython.core.display.Math object>"
      ]
     },
     "metadata": {},
     "output_type": "display_data"
    },
    {
     "data": {
      "text/latex": [
       "$\\displaystyle \\Gamma^2_{2,0} = \\frac{0.5 \\left(A^{2} \\sin^{2}{\\left(\\mathbf{\\phi} \\right)} + A^{2} \\cos^{2}{\\left(\\mathbf{\\phi} \\right)} - A C - B^{2} \\sin^{2}{\\left(\\mathbf{\\phi} \\right)} - B^{2} \\cos^{2}{\\left(\\mathbf{\\phi} \\right)} + B C\\right) \\sin{\\left(\\mathbf{\\phi} \\right)} \\cos{\\left(\\mathbf{\\phi} \\right)} \\cos{\\left(\\mathbf{\\theta} \\right)}}{A B \\left(- 1.0 \\sin^{4}{\\left(\\mathbf{\\phi} \\right)} - 1.0 \\cos^{4}{\\left(\\mathbf{\\phi} \\right)} + 0.25 \\cos{\\left(4 \\mathbf{\\phi} \\right)} - 0.25\\right)}$"
      ],
      "text/plain": [
       "<IPython.core.display.Math object>"
      ]
     },
     "metadata": {},
     "output_type": "display_data"
    },
    {
     "data": {
      "text/latex": [
       "$\\displaystyle \\Gamma^2_{2,1} = - \\frac{0.25 \\left(A^{2} - A C - B^{2} + B C\\right) \\sin{\\left(2 \\mathbf{\\phi} \\right)}}{A B}$"
      ],
      "text/plain": [
       "<IPython.core.display.Math object>"
      ]
     },
     "metadata": {},
     "output_type": "display_data"
    },
    {
     "data": {
      "text/latex": [
       "$\\displaystyle \\Gamma^2_{2,2} = 0$"
      ],
      "text/plain": [
       "<IPython.core.display.Math object>"
      ]
     },
     "metadata": {},
     "output_type": "display_data"
    }
   ],
   "source": [
    "for i in range(3):\n",
    "    for j in range(3):\n",
    "        for k in range(3):\n",
    "                display(Math('\\Gamma^{}_{{{},{}}} = '.format(i, j, k) + latex(simplify(simplify(christoffel_second[i, j, k])))))"
   ]
  },
  {
   "cell_type": "markdown",
   "metadata": {},
   "source": [
    "Для координат декартовых"
   ]
  },
  {
   "cell_type": "code",
   "execution_count": 109,
   "metadata": {},
   "outputs": [],
   "source": [
    "# Create a manifold.\n",
    "K = Manifold('K', 3)\n",
    "\n",
    "# Create a patch.\n",
    "patchk = Patch('P', K)\n",
    "\n",
    "# Coordinate system\n",
    "decartes = CoordSystem('decartes', patchk, ['x', 'y','z'])\n",
    "\n",
    "# Get the coordinate functions\n",
    "x,y,z = decartes.coord_functions()\n",
    "\n",
    "# Get the base one forms.\n",
    "dx,dy,dz = decartes.base_oneforms()\n",
    "\n",
    "# Auxiliar terms for the metric.\n",
    "dx_2 = TP(dx,dx)\n",
    "dy_2 = TP(dy,dy)\n",
    "dz_2 = TP(dz,dz)\n",
    "\n",
    "metric = 0.5*(dx_2+dy_2+dz_2)\n"
   ]
  },
  {
   "cell_type": "code",
   "execution_count": 110,
   "metadata": {},
   "outputs": [
    {
     "data": {
      "text/latex": [
       "$\\displaystyle 0.5 \\left(\\operatorname{d}x \\otimes \\operatorname{d}x + \\operatorname{d}y \\otimes \\operatorname{d}y + \\operatorname{d}z \\otimes \\operatorname{d}z\\right)$"
      ],
      "text/plain": [
       "0.5*(TensorProduct(dx, dx) + TensorProduct(dy, dy) + TensorProduct(dz, dz))"
      ]
     },
     "execution_count": 110,
     "metadata": {},
     "output_type": "execute_result"
    }
   ],
   "source": [
    "metric"
   ]
  },
  {
   "cell_type": "code",
   "execution_count": 111,
   "metadata": {},
   "outputs": [],
   "source": [
    "chris = metric_to_Christoffel_2nd(metric)"
   ]
  },
  {
   "cell_type": "code",
   "execution_count": 112,
   "metadata": {},
   "outputs": [
    {
     "data": {
      "text/latex": [
       "$\\displaystyle \\Gamma^0_{0,0} = 0$"
      ],
      "text/plain": [
       "<IPython.core.display.Math object>"
      ]
     },
     "metadata": {},
     "output_type": "display_data"
    },
    {
     "data": {
      "text/latex": [
       "$\\displaystyle \\Gamma^0_{0,1} = 0$"
      ],
      "text/plain": [
       "<IPython.core.display.Math object>"
      ]
     },
     "metadata": {},
     "output_type": "display_data"
    },
    {
     "data": {
      "text/latex": [
       "$\\displaystyle \\Gamma^0_{0,2} = 0$"
      ],
      "text/plain": [
       "<IPython.core.display.Math object>"
      ]
     },
     "metadata": {},
     "output_type": "display_data"
    },
    {
     "data": {
      "text/latex": [
       "$\\displaystyle \\Gamma^0_{1,0} = 0$"
      ],
      "text/plain": [
       "<IPython.core.display.Math object>"
      ]
     },
     "metadata": {},
     "output_type": "display_data"
    },
    {
     "data": {
      "text/latex": [
       "$\\displaystyle \\Gamma^0_{1,1} = 0$"
      ],
      "text/plain": [
       "<IPython.core.display.Math object>"
      ]
     },
     "metadata": {},
     "output_type": "display_data"
    },
    {
     "data": {
      "text/latex": [
       "$\\displaystyle \\Gamma^0_{1,2} = 0$"
      ],
      "text/plain": [
       "<IPython.core.display.Math object>"
      ]
     },
     "metadata": {},
     "output_type": "display_data"
    },
    {
     "data": {
      "text/latex": [
       "$\\displaystyle \\Gamma^0_{2,0} = 0$"
      ],
      "text/plain": [
       "<IPython.core.display.Math object>"
      ]
     },
     "metadata": {},
     "output_type": "display_data"
    },
    {
     "data": {
      "text/latex": [
       "$\\displaystyle \\Gamma^0_{2,1} = 0$"
      ],
      "text/plain": [
       "<IPython.core.display.Math object>"
      ]
     },
     "metadata": {},
     "output_type": "display_data"
    },
    {
     "data": {
      "text/latex": [
       "$\\displaystyle \\Gamma^0_{2,2} = 0$"
      ],
      "text/plain": [
       "<IPython.core.display.Math object>"
      ]
     },
     "metadata": {},
     "output_type": "display_data"
    },
    {
     "data": {
      "text/latex": [
       "$\\displaystyle \\Gamma^1_{0,0} = 0$"
      ],
      "text/plain": [
       "<IPython.core.display.Math object>"
      ]
     },
     "metadata": {},
     "output_type": "display_data"
    },
    {
     "data": {
      "text/latex": [
       "$\\displaystyle \\Gamma^1_{0,1} = 0$"
      ],
      "text/plain": [
       "<IPython.core.display.Math object>"
      ]
     },
     "metadata": {},
     "output_type": "display_data"
    },
    {
     "data": {
      "text/latex": [
       "$\\displaystyle \\Gamma^1_{0,2} = 0$"
      ],
      "text/plain": [
       "<IPython.core.display.Math object>"
      ]
     },
     "metadata": {},
     "output_type": "display_data"
    },
    {
     "data": {
      "text/latex": [
       "$\\displaystyle \\Gamma^1_{1,0} = 0$"
      ],
      "text/plain": [
       "<IPython.core.display.Math object>"
      ]
     },
     "metadata": {},
     "output_type": "display_data"
    },
    {
     "data": {
      "text/latex": [
       "$\\displaystyle \\Gamma^1_{1,1} = 0$"
      ],
      "text/plain": [
       "<IPython.core.display.Math object>"
      ]
     },
     "metadata": {},
     "output_type": "display_data"
    },
    {
     "data": {
      "text/latex": [
       "$\\displaystyle \\Gamma^1_{1,2} = 0$"
      ],
      "text/plain": [
       "<IPython.core.display.Math object>"
      ]
     },
     "metadata": {},
     "output_type": "display_data"
    },
    {
     "data": {
      "text/latex": [
       "$\\displaystyle \\Gamma^1_{2,0} = 0$"
      ],
      "text/plain": [
       "<IPython.core.display.Math object>"
      ]
     },
     "metadata": {},
     "output_type": "display_data"
    },
    {
     "data": {
      "text/latex": [
       "$\\displaystyle \\Gamma^1_{2,1} = 0$"
      ],
      "text/plain": [
       "<IPython.core.display.Math object>"
      ]
     },
     "metadata": {},
     "output_type": "display_data"
    },
    {
     "data": {
      "text/latex": [
       "$\\displaystyle \\Gamma^1_{2,2} = 0$"
      ],
      "text/plain": [
       "<IPython.core.display.Math object>"
      ]
     },
     "metadata": {},
     "output_type": "display_data"
    },
    {
     "data": {
      "text/latex": [
       "$\\displaystyle \\Gamma^2_{0,0} = 0$"
      ],
      "text/plain": [
       "<IPython.core.display.Math object>"
      ]
     },
     "metadata": {},
     "output_type": "display_data"
    },
    {
     "data": {
      "text/latex": [
       "$\\displaystyle \\Gamma^2_{0,1} = 0$"
      ],
      "text/plain": [
       "<IPython.core.display.Math object>"
      ]
     },
     "metadata": {},
     "output_type": "display_data"
    },
    {
     "data": {
      "text/latex": [
       "$\\displaystyle \\Gamma^2_{0,2} = 0$"
      ],
      "text/plain": [
       "<IPython.core.display.Math object>"
      ]
     },
     "metadata": {},
     "output_type": "display_data"
    },
    {
     "data": {
      "text/latex": [
       "$\\displaystyle \\Gamma^2_{1,0} = 0$"
      ],
      "text/plain": [
       "<IPython.core.display.Math object>"
      ]
     },
     "metadata": {},
     "output_type": "display_data"
    },
    {
     "data": {
      "text/latex": [
       "$\\displaystyle \\Gamma^2_{1,1} = 0$"
      ],
      "text/plain": [
       "<IPython.core.display.Math object>"
      ]
     },
     "metadata": {},
     "output_type": "display_data"
    },
    {
     "data": {
      "text/latex": [
       "$\\displaystyle \\Gamma^2_{1,2} = 0$"
      ],
      "text/plain": [
       "<IPython.core.display.Math object>"
      ]
     },
     "metadata": {},
     "output_type": "display_data"
    },
    {
     "data": {
      "text/latex": [
       "$\\displaystyle \\Gamma^2_{2,0} = 0$"
      ],
      "text/plain": [
       "<IPython.core.display.Math object>"
      ]
     },
     "metadata": {},
     "output_type": "display_data"
    },
    {
     "data": {
      "text/latex": [
       "$\\displaystyle \\Gamma^2_{2,1} = 0$"
      ],
      "text/plain": [
       "<IPython.core.display.Math object>"
      ]
     },
     "metadata": {},
     "output_type": "display_data"
    },
    {
     "data": {
      "text/latex": [
       "$\\displaystyle \\Gamma^2_{2,2} = 0$"
      ],
      "text/plain": [
       "<IPython.core.display.Math object>"
      ]
     },
     "metadata": {},
     "output_type": "display_data"
    }
   ],
   "source": [
    "for i in range(3):\n",
    "    for j in range(3):\n",
    "        for k in range(3):\n",
    "                display(Math('\\Gamma^{}_{{{},{}}} = '.format(i, j, k) + latex(simplify(chris[i, j, k]))))"
   ]
  },
  {
   "cell_type": "markdown",
   "metadata": {},
   "source": [
    "Для сферических"
   ]
  },
  {
   "cell_type": "code",
   "execution_count": 113,
   "metadata": {},
   "outputs": [],
   "source": [
    "# Create a manifold.\n",
    "K = Manifold('K', 2)\n",
    "\n",
    "# Create a patch.\n",
    "patchk = Patch('P', K)\n",
    "\n",
    "# Coordinate system\n",
    "decartes = CoordSystem('spherical', patchk, ['phi', 'theta'])\n",
    "\n",
    "# Get the coordinate functions\n",
    "phi, theta = decartes.coord_functions()\n",
    "\n",
    "# Get the base one forms.\n",
    "dphi, dtheta = decartes.base_oneforms()\n",
    "\n",
    "# Auxiliar terms for the metric.\n",
    "dphi_2 = TP(dphi,dphi)\n",
    "dtheta_2 = TP(dtheta,dtheta)\n",
    "#d#z_2 = TP(dz,dz)\n",
    "\n",
    "metric = 0.5*(dphi_2)+0.5*sin(phi)**2*dtheta_2\n"
   ]
  },
  {
   "cell_type": "code",
   "execution_count": 114,
   "metadata": {},
   "outputs": [
    {
     "data": {
      "text/latex": [
       "$\\displaystyle 0.5 \\sin^{2}{\\left(\\mathbf{\\phi} \\right)} \\operatorname{d}\\theta \\otimes \\operatorname{d}\\theta + 0.5 \\operatorname{d}\\phi \\otimes \\operatorname{d}\\phi$"
      ],
      "text/plain": [
       "0.5*sin(phi)**2*TensorProduct(dtheta, dtheta) + 0.5*TensorProduct(dphi, dphi)"
      ]
     },
     "execution_count": 114,
     "metadata": {},
     "output_type": "execute_result"
    }
   ],
   "source": [
    "metric"
   ]
  },
  {
   "cell_type": "code",
   "execution_count": 115,
   "metadata": {},
   "outputs": [],
   "source": [
    "chris = metric_to_Christoffel_2nd(metric)"
   ]
  },
  {
   "cell_type": "code",
   "execution_count": 116,
   "metadata": {},
   "outputs": [
    {
     "data": {
      "text/latex": [
       "$\\displaystyle \\Gamma^0_{0,0} = 0$"
      ],
      "text/plain": [
       "<IPython.core.display.Math object>"
      ]
     },
     "metadata": {},
     "output_type": "display_data"
    },
    {
     "data": {
      "text/latex": [
       "$\\displaystyle \\Gamma^0_{0,1} = 0$"
      ],
      "text/plain": [
       "<IPython.core.display.Math object>"
      ]
     },
     "metadata": {},
     "output_type": "display_data"
    },
    {
     "data": {
      "text/latex": [
       "$\\displaystyle \\Gamma^0_{1,0} = 0$"
      ],
      "text/plain": [
       "<IPython.core.display.Math object>"
      ]
     },
     "metadata": {},
     "output_type": "display_data"
    },
    {
     "data": {
      "text/latex": [
       "$\\displaystyle \\Gamma^0_{1,1} = - 0.5 \\sin{\\left(2 \\mathbf{\\phi} \\right)}$"
      ],
      "text/plain": [
       "<IPython.core.display.Math object>"
      ]
     },
     "metadata": {},
     "output_type": "display_data"
    },
    {
     "data": {
      "text/latex": [
       "$\\displaystyle \\Gamma^1_{0,0} = 0$"
      ],
      "text/plain": [
       "<IPython.core.display.Math object>"
      ]
     },
     "metadata": {},
     "output_type": "display_data"
    },
    {
     "data": {
      "text/latex": [
       "$\\displaystyle \\Gamma^1_{0,1} = \\frac{1.0}{\\tan{\\left(\\mathbf{\\phi} \\right)}}$"
      ],
      "text/plain": [
       "<IPython.core.display.Math object>"
      ]
     },
     "metadata": {},
     "output_type": "display_data"
    },
    {
     "data": {
      "text/latex": [
       "$\\displaystyle \\Gamma^1_{1,0} = \\frac{1.0}{\\tan{\\left(\\mathbf{\\phi} \\right)}}$"
      ],
      "text/plain": [
       "<IPython.core.display.Math object>"
      ]
     },
     "metadata": {},
     "output_type": "display_data"
    },
    {
     "data": {
      "text/latex": [
       "$\\displaystyle \\Gamma^1_{1,1} = 0$"
      ],
      "text/plain": [
       "<IPython.core.display.Math object>"
      ]
     },
     "metadata": {},
     "output_type": "display_data"
    }
   ],
   "source": [
    "for i in range(2):\n",
    "    for j in range(2):\n",
    "        for k in range(2):\n",
    "            display(Math('\\Gamma^{}_{{{},{}}} = '.format(i, j, k) + latex(simplify(chris[i, j, k]))))"
   ]
  }
 ],
 "metadata": {
  "kernelspec": {
   "display_name": "Python 3",
   "language": "python",
   "name": "python3"
  },
  "language_info": {
   "codemirror_mode": {
    "name": "ipython",
    "version": 3
   },
   "file_extension": ".py",
   "mimetype": "text/x-python",
   "name": "python",
   "nbconvert_exporter": "python",
   "pygments_lexer": "ipython3",
   "version": "3.7.6"
  }
 },
 "nbformat": 4,
 "nbformat_minor": 4
}
